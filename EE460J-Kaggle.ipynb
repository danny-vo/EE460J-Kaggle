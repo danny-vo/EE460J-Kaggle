{
 "cells": [
  {
   "cell_type": "code",
   "execution_count": null,
   "metadata": {},
   "outputs": [],
   "source": [
    "import sys\n",
    "!{sys.executable} -m pip install numpy pandas sklearn --user"
   ]
  },
  {
   "cell_type": "code",
   "execution_count": 4,
   "metadata": {},
   "outputs": [],
   "source": [
    "import numpy as np\n",
    "import pandas as pd\n",
    "import xgboost as xgb\n",
    "import sklearn as sk\n",
    "from sklearn.model_selection import GridSearchCV"
   ]
  },
  {
   "cell_type": "code",
   "execution_count": 20,
   "metadata": {
    "scrolled": true
   },
   "outputs": [
    {
     "name": "stdout",
     "output_type": "stream",
     "text": [
      "      Id      f1  f2     f3      f4  f5  f6      f7      f8  f9 ...     f15  \\\n",
      "0  16384   37733   1   1.77  118603   1   0  118602  118097   1 ...   13881   \n",
      "1  16385  312129   1   3.54  118052   1   0  117961  290919   1 ...   14638   \n",
      "2  16386   24884   1  23.01  118300   1   0  117961  302830   1 ...     770   \n",
      "3  16387    4674   1   1.77  119091   1   0  119062  118036   1 ...   16752   \n",
      "4  16388   68725   1   3.54  118300   1   0  117961  171056   1 ...    4945   \n",
      "\n",
      "      f16     f17  f18     f19  f20  f21  f22  f23  f24  \n",
      "0  117941  117887    1  117885    1    1    1    1    1  \n",
      "1  118992  290919    1  118321    1    1    1    7    1  \n",
      "2  119181    4673    1  128230    1    1    1   14    1  \n",
      "3  143531  290919    1  117905    1    1    1   81    1  \n",
      "4  118360  118638    1  118636    1    1    1    1    1  \n",
      "\n",
      "[5 rows x 25 columns]\n"
     ]
    }
   ],
   "source": [
    "# Read in the csv data\n",
    "train_data = pd.read_csv(\"train_final.csv\")\n",
    "test_data = pd.read_csv(\"test_final.csv\")\n",
    "# Example the contents\n",
    "# print(train_data.shape)\n",
    "# print(train_data.head())\n",
    "print(test_data.head())"
   ]
  },
  {
   "cell_type": "code",
   "execution_count": 21,
   "metadata": {
    "scrolled": true
   },
   "outputs": [],
   "source": [
    "Y = pd.Series(train_data[\"Y\"])\n",
    "X = train_data.loc[:, \"f1\":\"f24\"]"
   ]
  },
  {
   "cell_type": "code",
   "execution_count": null,
   "metadata": {},
   "outputs": [],
   "source": [
    "# model.predict_probability() for submission\n",
    "# play with these params\n",
    "params={\n",
    "    'max_depth': [3, 5, 7, 9], #[3,4,5,6,7,8,9], # 5 is good but takes too long in kaggle env\n",
    "    'subsample': [0.4, 0.6, 0.8, .95], #[0.4,0.5,0.6,0.7,0.8,0.9,1.0],\n",
    "    'colsample_bytree': [0.5, 0.7, 0.9], #[0.5,0.6,0.7,0.8],\n",
    "    'n_estimators': [100, 500, 1000, 2000], #[1000,2000,3000]\n",
    "    'reg_alpha': [0.01, 0.03, 0.05], #[0.01, 0.02, 0.03, 0.04],\n",
    "    'silent': [1],\n",
    "\n",
    "}"
   ]
  },
  {
   "cell_type": "code",
   "execution_count": 32,
   "metadata": {},
   "outputs": [
    {
     "name": "stdout",
     "output_type": "stream",
     "text": [
      "Training one model took: 3.482536792755127  to run\n"
     ]
    }
   ],
   "source": [
    "import time\n",
    "start_time = time.time()\n",
    "\n",
    "# B.D.E.\n",
    "A = xgb.XGBClassifier(\n",
    "    n_estimators = 1000,\n",
    "    max_depth = 7,\n",
    "    subsample = 0.8,\n",
    "    colsample_bytree = 0.7,\n",
    "    reg_alpha = 0.03,\n",
    "    silent = 1,\n",
    "    update = 'grow_gpu',\n",
    "    tree_method = 'gpu_hist',\n",
    "    predictor = 'gpu_predictor'\n",
    ")\n",
    "\n",
    "A.fit(X, Y)\n",
    "\n",
    "print(\"Training one model took: \" + str(time.time() - start_time), \" to run\")"
   ]
  },
  {
   "cell_type": "code",
   "execution_count": 7,
   "metadata": {},
   "outputs": [],
   "source": [
    "def resultsToCsv(grid, csvname):\n",
    "    results = pd.DataFrame(grid.cv_results_)\n",
    "    results.sort_values(by='rank_test_score', inplace=True)\n",
    "    results.to_csv(csvname, ',')"
   ]
  },
  {
   "cell_type": "code",
   "execution_count": 137,
   "metadata": {},
   "outputs": [
    {
     "name": "stdout",
     "output_type": "stream",
     "text": [
      "XGBoost with grid search\n"
     ]
    },
    {
     "data": {
      "text/plain": [
       "'\\nprint(\\'Begin GridSearchCV\\')\\nrs = GridSearchCV(xgb_clf,\\n                  params,\\n                  cv=20,\\n                  scoring=\"roc_auc\",\\n                  n_jobs=-1,\\n                  verbose=False)\\nrs.fit(X, Y)\\n# best_est = rs.best_estimator_\\n'"
      ]
     },
     "execution_count": 137,
     "metadata": {},
     "output_type": "execute_result"
    }
   ],
   "source": [
    "print('XGBoost with grid search')\n",
    "\n",
    "xbgc_params = {\n",
    "    'tree_method': ['gpu_hist'],\n",
    "    'predictor': ['gpu_predictor'],\n",
    "    'updater': ['grow_gpu'],\n",
    "    'n_jobs': -1\n",
    "}\n",
    "xgb_clf = xgb.XGBClassifier(xbgc_params)\n",
    "\n",
    "'''\n",
    "print('Begin GridSearchCV')\n",
    "rs = GridSearchCV(xgb_clf,\n",
    "                  params,\n",
    "                  cv=20,\n",
    "                  scoring=\"roc_auc\",\n",
    "                  n_jobs=-1,\n",
    "                  verbose=False)\n",
    "rs.fit(X, Y)\n",
    "# best_est = rs.best_estimator_\n",
    "'''"
   ]
  },
  {
   "cell_type": "code",
   "execution_count": null,
   "metadata": {},
   "outputs": [],
   "source": [
    "\n",
    "\n",
    "# Grab results into csv for checking\n",
    "results = pd.DataFrame(rs.cv_results_)\n",
    "results.sort_values(by='rank_test_score', inplace=True)\n",
    "results.to_csv('training_results.csv', ',')"
   ]
  },
  {
   "cell_type": "code",
   "execution_count": 22,
   "metadata": {},
   "outputs": [],
   "source": [
    "X_test = test_data.loc[:, \"f1\":\"f24\"]"
   ]
  },
  {
   "cell_type": "code",
   "execution_count": 96,
   "metadata": {},
   "outputs": [
    {
     "name": "stdout",
     "output_type": "stream",
     "text": [
      "XGBClassifier(base_score=0.5, booster='gbtree', colsample_bylevel=1,\n",
      "       colsample_bytree=0.5, gamma=0, learning_rate=0.1, max_delta_step=0,\n",
      "       max_depth=9, min_child_weight=1, missing=None, n_estimators=500,\n",
      "       n_jobs=1, nthread=None, objective='binary:logistic', random_state=0,\n",
      "       reg_alpha=0.01, reg_lambda=1, scale_pos_weight=1, seed=None,\n",
      "       silent=1, subsample=0.95)\n"
     ]
    }
   ],
   "source": [
    "best_model = rs.best_estimator_\n",
    "print(best_model)"
   ]
  },
  {
   "cell_type": "code",
   "execution_count": 77,
   "metadata": {},
   "outputs": [],
   "source": [
    "predictions = best_model.predict_proba(X_test)\n",
    "formatted_predictions = np.array(predictions)\n",
    "submission = pd.DataFrame({'Id':test_data.Id, 'Y': formatted_predictions[:,1]})\n",
    "submission.to_csv('submissions.csv', index=False)"
   ]
  },
  {
   "cell_type": "code",
   "execution_count": 97,
   "metadata": {},
   "outputs": [
    {
     "name": "stdout",
     "output_type": "stream",
     "text": [
      "XGBClassifier(base_score=0.5, booster='gbtree', colsample_bylevel=1,\n",
      "       colsample_bytree=0.5, gamma=0, learning_rate=0.1, max_delta_step=0,\n",
      "       max_depth=9, min_child_weight=1, missing=None, n_estimators=500,\n",
      "       n_jobs=1, nthread=None, objective='binary:logistic', random_state=0,\n",
      "       reg_alpha=0.01, reg_lambda=1, scale_pos_weight=1, seed=None,\n",
      "       silent=1, subsample=0.95)\n"
     ]
    }
   ],
   "source": [
    "# Okay, lets try an average of models...\n",
    "print(best_model)"
   ]
  },
  {
   "cell_type": "code",
   "execution_count": 103,
   "metadata": {},
   "outputs": [
    {
     "data": {
      "text/plain": [
       "GridSearchCV(cv=20, error_score='raise-deprecating',\n",
       "       estimator=XGBClassifier(base_score=0.5, booster='gbtree', colsample_bylevel=1,\n",
       "       colsample_bytree=1, gamma=0, learning_rate=0.1, max_delta_step=0,\n",
       "       max_depth={'tree_method': ['gpu_hist'], 'predictor': ['gpu_predictor'], 'updater': ['grow_gpu']},\n",
       "       min_child_weight=1, missing=None, n_estimators=100, n_jobs=1,\n",
       "       nthread=None, objective='binary:logistic', random_state=0,\n",
       "       reg_alpha=0, reg_lambda=1, scale_pos_weight=1, seed=None,\n",
       "       silent=True, subsample=1),\n",
       "       fit_params=None, iid='warn', n_jobs=-1,\n",
       "       param_grid={'colsample_bytree': [0.45, 0.5, 0.55], 'max_depth': [8, 9, 10], 'n_estimators': [250, 500, 750], 'reg_alpha': [0.005, 0.01, 0.015], 'subsample': [0.95], 'silent': [1]},\n",
       "       pre_dispatch='2*n_jobs', refit=True, return_train_score='warn',\n",
       "       scoring='roc_auc', verbose=False)"
      ]
     },
     "execution_count": 103,
     "metadata": {},
     "output_type": "execute_result"
    }
   ],
   "source": [
    "# Get variables from cv results, grab actual parameters\n",
    "\n",
    "# Create 5 sets of parameters (max_depth[X,X-1,X+1], subsample +- .05, colsample +- .05,\n",
    "# n_estimators ((+- half of values), reg_alpha _- .05))\n",
    "\n",
    "# Fine tune each of the 5 for n_estimators\n",
    "# Take the test values, run them through all 5 models, take an average, submit and win\n",
    "model1_ftparams ={\n",
    "    'colsample_bytree': [0.45, 0.5, 0.55],\n",
    "    'max_depth': [8, 9, 10],  \n",
    "    'n_estimators': [250, 500, 750],\n",
    "    'reg_alpha': [0.005, 0.01, 0.015],\n",
    "    'subsample': [0.95],\n",
    "    'silent': [1],\n",
    "}\n",
    "\n",
    "ftgrid_1 = GridSearchCV(xgb_clf,\n",
    "                  model1_ftparams,\n",
    "                  cv=20,\n",
    "                  scoring=\"roc_auc\",\n",
    "                  n_jobs=-1,\n",
    "                  verbose=False)\n",
    "ftgrid_1.fit(X, Y)"
   ]
  },
  {
   "cell_type": "code",
   "execution_count": 104,
   "metadata": {},
   "outputs": [
    {
     "data": {
      "text/plain": [
       "GridSearchCV(cv=20, error_score='raise-deprecating',\n",
       "       estimator=XGBClassifier(base_score=0.5, booster='gbtree', colsample_bylevel=1,\n",
       "       colsample_bytree=1, gamma=0, learning_rate=0.1, max_delta_step=0,\n",
       "       max_depth={'tree_method': ['gpu_hist'], 'predictor': ['gpu_predictor'], 'updater': ['grow_gpu']},\n",
       "       min_child_weight=1, missing=None, n_estimators=100, n_jobs=1,\n",
       "       nthread=None, objective='binary:logistic', random_state=0,\n",
       "       reg_alpha=0, reg_lambda=1, scale_pos_weight=1, seed=None,\n",
       "       silent=True, subsample=1),\n",
       "       fit_params=None, iid='warn', n_jobs=-1,\n",
       "       param_grid={'colsample_bytree': [0.45, 0.5, 0.55], 'max_depth': [8, 9, 10], 'n_estimators': [500, 1000, 1500], 'reg_alpha': [0.005, 0.01, 0.015], 'subsample': [0.95], 'silent': [1]},\n",
       "       pre_dispatch='2*n_jobs', refit=True, return_train_score='warn',\n",
       "       scoring='roc_auc', verbose=False)"
      ]
     },
     "execution_count": 104,
     "metadata": {},
     "output_type": "execute_result"
    }
   ],
   "source": [
    "model3_ftparams ={\n",
    "    'colsample_bytree': [0.45, 0.5, 0.55],\n",
    "    'max_depth': [8, 9, 10],  \n",
    "    'n_estimators': [500, 1000, 1500],\n",
    "    'reg_alpha': [0.005, 0.01, 0.015],\n",
    "    'subsample': [0.95],\n",
    "    'silent': [1],\n",
    "}\n",
    "\n",
    "ftgrid_3 = GridSearchCV(xgb_clf,\n",
    "                  model3_ftparams,\n",
    "                  cv=20,\n",
    "                  scoring=\"roc_auc\",\n",
    "                  n_jobs=-1,\n",
    "                  verbose=False)\n",
    "ftgrid_3.fit(X, Y)"
   ]
  },
  {
   "cell_type": "code",
   "execution_count": 105,
   "metadata": {},
   "outputs": [
    {
     "data": {
      "text/plain": [
       "GridSearchCV(cv=20, error_score='raise-deprecating',\n",
       "       estimator=XGBClassifier(base_score=0.5, booster='gbtree', colsample_bylevel=1,\n",
       "       colsample_bytree=1, gamma=0, learning_rate=0.1, max_delta_step=0,\n",
       "       max_depth={'tree_method': ['gpu_hist'], 'predictor': ['gpu_predictor'], 'updater': ['grow_gpu']},\n",
       "       min_child_weight=1, missing=None, n_estimators=100, n_jobs=1,\n",
       "       nthread=None, objective='binary:logistic', random_state=0,\n",
       "       reg_alpha=0, reg_lambda=1, scale_pos_weight=1, seed=None,\n",
       "       silent=True, subsample=1),\n",
       "       fit_params=None, iid='warn', n_jobs=-1,\n",
       "       param_grid={'colsample_bytree': [0.45, 0.5, 0.55], 'max_depth': [8, 9, 10], 'n_estimators': [250, 500, 750], 'reg_alpha': [0.045, 0.05, 0.055], 'subsample': [0.95], 'silent': [1]},\n",
       "       pre_dispatch='2*n_jobs', refit=True, return_train_score='warn',\n",
       "       scoring='roc_auc', verbose=False)"
      ]
     },
     "execution_count": 105,
     "metadata": {},
     "output_type": "execute_result"
    }
   ],
   "source": [
    "model4_ftparams ={\n",
    "    'colsample_bytree': [0.45, 0.5, 0.55],\n",
    "    'max_depth': [8, 9, 10],  \n",
    "    'n_estimators': [250, 500, 750],\n",
    "    'reg_alpha': [0.045, 0.05, 0.055],\n",
    "    'subsample': [0.95],\n",
    "    'silent': [1],\n",
    "}\n",
    "\n",
    "ftgrid_4 = GridSearchCV(xgb_clf,\n",
    "                  model4_ftparams,\n",
    "                  cv=20,\n",
    "                  scoring=\"roc_auc\",\n",
    "                  n_jobs=-1,\n",
    "                  verbose=False)\n",
    "ftgrid_4.fit(X, Y)"
   ]
  },
  {
   "cell_type": "code",
   "execution_count": 106,
   "metadata": {},
   "outputs": [
    {
     "data": {
      "text/plain": [
       "GridSearchCV(cv=20, error_score='raise-deprecating',\n",
       "       estimator=XGBClassifier(base_score=0.5, booster='gbtree', colsample_bylevel=1,\n",
       "       colsample_bytree=1, gamma=0, learning_rate=0.1, max_delta_step=0,\n",
       "       max_depth={'tree_method': ['gpu_hist'], 'predictor': ['gpu_predictor'], 'updater': ['grow_gpu']},\n",
       "       min_child_weight=1, missing=None, n_estimators=100, n_jobs=1,\n",
       "       nthread=None, objective='binary:logistic', random_state=0,\n",
       "       reg_alpha=0, reg_lambda=1, scale_pos_weight=1, seed=None,\n",
       "       silent=True, subsample=1),\n",
       "       fit_params=None, iid='warn', n_jobs=-1,\n",
       "       param_grid={'colsample_bytree': [0.45, 0.5, 0.55], 'max_depth': [8, 9, 10], 'n_estimators': [500, 1000, 1500], 'reg_alpha': [0.025, 0.03, 0.035], 'subsample': [0.95], 'silent': [1]},\n",
       "       pre_dispatch='2*n_jobs', refit=True, return_train_score='warn',\n",
       "       scoring='roc_auc', verbose=False)"
      ]
     },
     "execution_count": 106,
     "metadata": {},
     "output_type": "execute_result"
    }
   ],
   "source": [
    "model8_ftparams ={\n",
    "    'colsample_bytree': [0.45, 0.5, 0.55],\n",
    "    'max_depth': [8, 9, 10],  \n",
    "    'n_estimators': [500, 1000, 1500],\n",
    "    'reg_alpha': [0.025, 0.03, 0.035],\n",
    "    'subsample': [0.95],\n",
    "    'silent': [1],\n",
    "}\n",
    "\n",
    "ftgrid_8 = GridSearchCV(xgb_clf,\n",
    "                  model8_ftparams,\n",
    "                  cv=20,\n",
    "                  scoring=\"roc_auc\",\n",
    "                  n_jobs=-1,\n",
    "                  verbose=False)\n",
    "ftgrid_8.fit(X, Y)"
   ]
  },
  {
   "cell_type": "code",
   "execution_count": null,
   "metadata": {},
   "outputs": [],
   "source": [
    "ftgrid_1_results = pd.DataFrame(ftgrid_1.cv_results_)\n",
    "ftgrid_1_results.sort_values(by='rank_test_score', inplace=True)\n",
    "ftgrid_1_results.to_csv('model1_ft.csv', ',')\n",
    "ftgrid_3_results = pd.DataFrame(ftgrid_3.cv_results_)\n",
    "ftgrid_3_results.sort_values(by='rank_test_score', inplace=True)\n",
    "ftgrid_3_results.to_csv('model3_ft.csv', ',')\n",
    "ftgrid_4_results = pd.DataFrame(ftgrid_4.cv_results_)\n",
    "ftgrid_4_results.sort_values(by='rank_test_score', inplace=True)\n",
    "ftgrid_4_results.to_csv('model4_ft.csv', ',')\n",
    "ftgrid_8_results = pd.DataFrame(ftgrid_8.cv_results_)\n",
    "ftgrid_8_results.sort_values(by='rank_test_score', inplace=True)\n",
    "ftgrid_8_results.to_csv('model8_ft.csv', ',')"
   ]
  },
  {
   "cell_type": "code",
   "execution_count": 111,
   "metadata": {},
   "outputs": [],
   "source": [
    "model1_ft_predictions = np.array(ftgrid_1.best_estimator_.predict_proba(X_test))[:,1]\n",
    "model3_ft_predictions = np.array(ftgrid_3.best_estimator_.predict_proba(X_test))[:,1]\n",
    "model4_ft_predictions = np.array(ftgrid_4.best_estimator_.predict_proba(X_test))[:,1]\n",
    "model8_ft_predictions = np.array(ftgrid_8.best_estimator_.predict_proba(X_test))[:,1]"
   ]
  },
  {
   "cell_type": "code",
   "execution_count": 113,
   "metadata": {},
   "outputs": [],
   "source": [
    "avg_ft_predictions = (model1_ft_predictions + model3_ft_predictions + model4_ft_predictions + model8_ft_predictions) / 4"
   ]
  },
  {
   "cell_type": "code",
   "execution_count": 115,
   "metadata": {},
   "outputs": [
    {
     "name": "stdout",
     "output_type": "stream",
     "text": [
      "[0.9159833  0.97035176 0.9999771  ... 0.9998962  0.9978585  0.9926251 ]\n"
     ]
    }
   ],
   "source": [
    "print(avg_ft_predictions)"
   ]
  },
  {
   "cell_type": "code",
   "execution_count": 116,
   "metadata": {},
   "outputs": [],
   "source": [
    "submission = pd.DataFrame({'Id':test_data.Id, 'Y': avg_ft_predictions})\n",
    "submission.to_csv('submissions1.csv', index=False)"
   ]
  },
  {
   "cell_type": "code",
   "execution_count": 118,
   "metadata": {},
   "outputs": [],
   "source": [
    "# Okay, let's try to avoid overfitting now, calibrate learning curve\n",
    "# Ref: https://towardsdatascience.com/fine-tuning-xgboost-in-python-like-a-boss-b4543ed8b1e\n",
    "xbgc_params[\"random_state\"] = 69 # change seed\n",
    "xgb_clf = xgb.XGBClassifier(xbgc_params)\n",
    "\n"
   ]
  },
  {
   "cell_type": "code",
   "execution_count": null,
   "metadata": {},
   "outputs": [],
   "source": [
    "# Just gonna run with the best_estimator_ values... too lazy (other than n_estimators)\n",
    "model1_r3_params = {\n",
    "    'colsample_bytree': [0.45],\n",
    "    'max_depth': [10],  \n",
    "    'n_estimators': [150, 250, 350],\n",
    "    'reg_alpha': [0.015],\n",
    "    'subsample': [0.95],\n",
    "    'learning_rate': [0.01, 0.02, 0.03, 0.04, 0.05, 0.06, 0.07, 0.08, 0.09, 0.1],\n",
    "    'silent': [1],\n",
    "}\n",
    "\n",
    "r3grid_1 = GridSearchCV(xgb_clf,\n",
    "                  model1_r3_params,\n",
    "                  cv=25,\n",
    "                  scoring=\"roc_auc\",\n",
    "                  n_jobs=-1,\n",
    "                  verbose=False)\n",
    "r3grid_1.fit(X, Y)"
   ]
  },
  {
   "cell_type": "code",
   "execution_count": null,
   "metadata": {},
   "outputs": [],
   "source": [
    "model3_r3_params = {\n",
    "    'colsample_bytree': [0.45],\n",
    "    'max_depth': [10],  \n",
    "    'n_estimators': [400, 500, 600],\n",
    "    'reg_alpha': [0.015],\n",
    "    'subsample': [0.95],\n",
    "    'learning_rate': [0.01, 0.02, 0.03, 0.04, 0.05, 0.06, 0.07, 0.08, 0.09, 0.1],\n",
    "    'silent': [1],\n",
    "}\n",
    "\n",
    "r3grid_3 = GridSearchCV(xgb_clf,\n",
    "                  model3_r3_params,\n",
    "                  cv=25,\n",
    "                  scoring=\"roc_auc\",\n",
    "                  n_jobs=-1,\n",
    "                  verbose=False)\n",
    "r3grid_3.fit(X, Y)"
   ]
  },
  {
   "cell_type": "code",
   "execution_count": null,
   "metadata": {},
   "outputs": [],
   "source": [
    "model4_r3_params = {\n",
    "    'colsample_bytree': [0.45],\n",
    "    'max_depth': [10],  \n",
    "    'n_estimators': [150, 250, 350],\n",
    "    'reg_alpha': [0.045],\n",
    "    'subsample': [0.95],\n",
    "    'learning_rate': [0.01, 0.02, 0.03, 0.04, 0.05, 0.06, 0.07, 0.08, 0.09, 0.1],\n",
    "    'silent': [1],\n",
    "}\n",
    "\n",
    "r3grid_4 = GridSearchCV(xgb_clf,\n",
    "                  model4_r3_params,\n",
    "                  cv=25,\n",
    "                  scoring=\"roc_auc\",\n",
    "                  n_jobs=-1,\n",
    "                  verbose=False)\n",
    "r3grid_4.fit(X, Y)"
   ]
  },
  {
   "cell_type": "code",
   "execution_count": null,
   "metadata": {},
   "outputs": [],
   "source": [
    "model8_r3_params = {\n",
    "    'colsample_bytree': [0.45],\n",
    "    'max_depth': [10],  \n",
    "    'n_estimators': [400, 500, 600],\n",
    "    'reg_alpha': [0.025],\n",
    "    'subsample': [0.95],\n",
    "    'learning_rate': [0.01, 0.02, 0.03, 0.04, 0.05, 0.06, 0.07, 0.08, 0.09, 0.1],\n",
    "    'silent': [1],\n",
    "}\n",
    "\n",
    "r3grid_8 = GridSearchCV(xgb_clf,\n",
    "                  model8_r3_params,\n",
    "                  cv=25,\n",
    "                  scoring=\"roc_auc\",\n",
    "                  n_jobs=-1,\n",
    "                  verbose=False)\n",
    "r3grid_8.fit(X, Y)"
   ]
  },
  {
   "cell_type": "code",
   "execution_count": null,
   "metadata": {},
   "outputs": [],
   "source": [
    "r3grid_1_results = pd.DataFrame(r3grid_1.cv_results_)\n",
    "r3grid_1_results.sort_values(by='rank_test_score', inplace=True)\n",
    "r3grid_1_results.to_csv('model1_r3.csv', ',')\n",
    "r3grid_3_results = pd.DataFrame(r3grid_3.cv_results_)\n",
    "r3grid_3_results.sort_values(by='rank_test_score', inplace=True)\n",
    "r3grid_3_results.to_csv('model3_r3.csv', ',')\n",
    "r3grid_4_results = pd.DataFrame(r3grid_4.cv_results_)\n",
    "r3grid_4_results.sort_values(by='rank_test_score', inplace=True)\n",
    "r3grid_4_results.to_csv('model4_r3.csv', ',')\n",
    "r3grid_8_results = pd.DataFrame(r3grid_8.cv_results_)\n",
    "r3grid_8_results.sort_values(by='rank_test_score', inplace=True)\n",
    "r3grid_8_results.to_csv('model8_r3.csv', ',')"
   ]
  },
  {
   "cell_type": "code",
   "execution_count": 129,
   "metadata": {},
   "outputs": [],
   "source": [
    "model1_r3_predictions = np.array(r3grid_1.best_estimator_.predict_proba(X_test))[:,1]\n",
    "model3_r3_predictions = np.array(r3grid_3.best_estimator_.predict_proba(X_test))[:,1]\n",
    "model4_r3_predictions = np.array(r3grid_4.best_estimator_.predict_proba(X_test))[:,1]\n",
    "model8_r3_predictions = np.array(r3grid_8.best_estimator_.predict_proba(X_test))[:,1]"
   ]
  },
  {
   "cell_type": "code",
   "execution_count": 130,
   "metadata": {},
   "outputs": [],
   "source": [
    "avg_r3_predictions = (model1_r3_predictions + model3_r3_predictions + model4_r3_predictions + model8_r3_predictions) / 4"
   ]
  },
  {
   "cell_type": "code",
   "execution_count": 131,
   "metadata": {},
   "outputs": [],
   "source": [
    "submission = pd.DataFrame({'Id':test_data.Id, 'Y': avg_r3_predictions})\n",
    "submission.to_csv('submissions2.csv', index=False)"
   ]
  },
  {
   "cell_type": "code",
   "execution_count": 138,
   "metadata": {},
   "outputs": [
    {
     "data": {
      "text/plain": [
       "GridSearchCV(cv=25, error_score='raise-deprecating',\n",
       "       estimator=XGBClassifier(base_score=0.5, booster='gbtree', colsample_bylevel=1,\n",
       "       colsample_bytree=1, gamma=0, learning_rate=0.1, max_delta_step=0,\n",
       "       max_depth={'tree_method': ['gpu_hist'], 'predictor': ['gpu_predictor'], 'updater': ['grow_gpu'], 'n_jobs': -1, 'random_state': 42},\n",
       "       mi...0,\n",
       "       reg_alpha=0, reg_lambda=1, scale_pos_weight=1, seed=None,\n",
       "       silent=True, subsample=1),\n",
       "       fit_params=None, iid='warn', n_jobs=-1,\n",
       "       param_grid={'colsample_bytree': [0.45], 'gamma': [0.2, 0.4, 0.6, 0.8], 'min_child_weight': [2, 4, 6, 8], 'max_depth': [6, 8, 10], 'n_estimators': [250, 500, 750], 'reg_alpha': [0.025], 'subsample': [0.95], 'learning_rate': [0.001, 0.005, 0.01], 'silent': [1]},\n",
       "       pre_dispatch='2*n_jobs', refit=True, return_train_score='warn',\n",
       "       scoring='roc_auc', verbose=False)"
      ]
     },
     "execution_count": 138,
     "metadata": {},
     "output_type": "execute_result"
    }
   ],
   "source": [
    "# Okay lets just optimize one model with various values we can go off of\n",
    "xbgc_params[\"random_state\"] = 42 # change seed\n",
    "xgb_clf = xgb.XGBClassifier(xbgc_params)\n",
    "\n",
    "model8_r4_params = {\n",
    "    'colsample_bytree': [0.45],\n",
    "    'gamma': [0.2, 0.4, 0.6, 0.8],\n",
    "    'min_child_weight': [2, 4, 6, 8],\n",
    "    'max_depth': [6, 8, 10],  \n",
    "    'n_estimators': [250, 500, 750],\n",
    "    'reg_alpha': [0.025],\n",
    "    'subsample': [0.95],\n",
    "    'learning_rate': [0.001, 0.005, 0.01],\n",
    "    'silent': [1],\n",
    "}\n",
    "\n",
    "r4grid_8 = GridSearchCV(xgb_clf,\n",
    "                  model8_r4_params,\n",
    "                  cv=25,\n",
    "                  scoring=\"roc_auc\",\n",
    "                  n_jobs=-1,\n",
    "                  verbose=False)\n",
    "r4grid_8.fit(X, Y)"
   ]
  },
  {
   "cell_type": "code",
   "execution_count": 140,
   "metadata": {},
   "outputs": [
    {
     "name": "stderr",
     "output_type": "stream",
     "text": [
      "/home/vod/.local/lib/python3.7/site-packages/sklearn/utils/deprecation.py:125: FutureWarning: You are accessing a training score ('split0_train_score'), which will not be available by default any more in 0.21. If you need training scores, please set return_train_score=True\n",
      "  warnings.warn(*warn_args, **warn_kwargs)\n",
      "/home/vod/.local/lib/python3.7/site-packages/sklearn/utils/deprecation.py:125: FutureWarning: You are accessing a training score ('split1_train_score'), which will not be available by default any more in 0.21. If you need training scores, please set return_train_score=True\n",
      "  warnings.warn(*warn_args, **warn_kwargs)\n",
      "/home/vod/.local/lib/python3.7/site-packages/sklearn/utils/deprecation.py:125: FutureWarning: You are accessing a training score ('split2_train_score'), which will not be available by default any more in 0.21. If you need training scores, please set return_train_score=True\n",
      "  warnings.warn(*warn_args, **warn_kwargs)\n",
      "/home/vod/.local/lib/python3.7/site-packages/sklearn/utils/deprecation.py:125: FutureWarning: You are accessing a training score ('split3_train_score'), which will not be available by default any more in 0.21. If you need training scores, please set return_train_score=True\n",
      "  warnings.warn(*warn_args, **warn_kwargs)\n",
      "/home/vod/.local/lib/python3.7/site-packages/sklearn/utils/deprecation.py:125: FutureWarning: You are accessing a training score ('split4_train_score'), which will not be available by default any more in 0.21. If you need training scores, please set return_train_score=True\n",
      "  warnings.warn(*warn_args, **warn_kwargs)\n",
      "/home/vod/.local/lib/python3.7/site-packages/sklearn/utils/deprecation.py:125: FutureWarning: You are accessing a training score ('split5_train_score'), which will not be available by default any more in 0.21. If you need training scores, please set return_train_score=True\n",
      "  warnings.warn(*warn_args, **warn_kwargs)\n",
      "/home/vod/.local/lib/python3.7/site-packages/sklearn/utils/deprecation.py:125: FutureWarning: You are accessing a training score ('split6_train_score'), which will not be available by default any more in 0.21. If you need training scores, please set return_train_score=True\n",
      "  warnings.warn(*warn_args, **warn_kwargs)\n",
      "/home/vod/.local/lib/python3.7/site-packages/sklearn/utils/deprecation.py:125: FutureWarning: You are accessing a training score ('split7_train_score'), which will not be available by default any more in 0.21. If you need training scores, please set return_train_score=True\n",
      "  warnings.warn(*warn_args, **warn_kwargs)\n",
      "/home/vod/.local/lib/python3.7/site-packages/sklearn/utils/deprecation.py:125: FutureWarning: You are accessing a training score ('split8_train_score'), which will not be available by default any more in 0.21. If you need training scores, please set return_train_score=True\n",
      "  warnings.warn(*warn_args, **warn_kwargs)\n",
      "/home/vod/.local/lib/python3.7/site-packages/sklearn/utils/deprecation.py:125: FutureWarning: You are accessing a training score ('split9_train_score'), which will not be available by default any more in 0.21. If you need training scores, please set return_train_score=True\n",
      "  warnings.warn(*warn_args, **warn_kwargs)\n",
      "/home/vod/.local/lib/python3.7/site-packages/sklearn/utils/deprecation.py:125: FutureWarning: You are accessing a training score ('split10_train_score'), which will not be available by default any more in 0.21. If you need training scores, please set return_train_score=True\n",
      "  warnings.warn(*warn_args, **warn_kwargs)\n",
      "/home/vod/.local/lib/python3.7/site-packages/sklearn/utils/deprecation.py:125: FutureWarning: You are accessing a training score ('split11_train_score'), which will not be available by default any more in 0.21. If you need training scores, please set return_train_score=True\n",
      "  warnings.warn(*warn_args, **warn_kwargs)\n",
      "/home/vod/.local/lib/python3.7/site-packages/sklearn/utils/deprecation.py:125: FutureWarning: You are accessing a training score ('split12_train_score'), which will not be available by default any more in 0.21. If you need training scores, please set return_train_score=True\n",
      "  warnings.warn(*warn_args, **warn_kwargs)\n",
      "/home/vod/.local/lib/python3.7/site-packages/sklearn/utils/deprecation.py:125: FutureWarning: You are accessing a training score ('split13_train_score'), which will not be available by default any more in 0.21. If you need training scores, please set return_train_score=True\n",
      "  warnings.warn(*warn_args, **warn_kwargs)\n",
      "/home/vod/.local/lib/python3.7/site-packages/sklearn/utils/deprecation.py:125: FutureWarning: You are accessing a training score ('split14_train_score'), which will not be available by default any more in 0.21. If you need training scores, please set return_train_score=True\n",
      "  warnings.warn(*warn_args, **warn_kwargs)\n",
      "/home/vod/.local/lib/python3.7/site-packages/sklearn/utils/deprecation.py:125: FutureWarning: You are accessing a training score ('split15_train_score'), which will not be available by default any more in 0.21. If you need training scores, please set return_train_score=True\n",
      "  warnings.warn(*warn_args, **warn_kwargs)\n",
      "/home/vod/.local/lib/python3.7/site-packages/sklearn/utils/deprecation.py:125: FutureWarning: You are accessing a training score ('split16_train_score'), which will not be available by default any more in 0.21. If you need training scores, please set return_train_score=True\n",
      "  warnings.warn(*warn_args, **warn_kwargs)\n",
      "/home/vod/.local/lib/python3.7/site-packages/sklearn/utils/deprecation.py:125: FutureWarning: You are accessing a training score ('split17_train_score'), which will not be available by default any more in 0.21. If you need training scores, please set return_train_score=True\n",
      "  warnings.warn(*warn_args, **warn_kwargs)\n",
      "/home/vod/.local/lib/python3.7/site-packages/sklearn/utils/deprecation.py:125: FutureWarning: You are accessing a training score ('split18_train_score'), which will not be available by default any more in 0.21. If you need training scores, please set return_train_score=True\n",
      "  warnings.warn(*warn_args, **warn_kwargs)\n",
      "/home/vod/.local/lib/python3.7/site-packages/sklearn/utils/deprecation.py:125: FutureWarning: You are accessing a training score ('split19_train_score'), which will not be available by default any more in 0.21. If you need training scores, please set return_train_score=True\n",
      "  warnings.warn(*warn_args, **warn_kwargs)\n",
      "/home/vod/.local/lib/python3.7/site-packages/sklearn/utils/deprecation.py:125: FutureWarning: You are accessing a training score ('split20_train_score'), which will not be available by default any more in 0.21. If you need training scores, please set return_train_score=True\n",
      "  warnings.warn(*warn_args, **warn_kwargs)\n",
      "/home/vod/.local/lib/python3.7/site-packages/sklearn/utils/deprecation.py:125: FutureWarning: You are accessing a training score ('split21_train_score'), which will not be available by default any more in 0.21. If you need training scores, please set return_train_score=True\n",
      "  warnings.warn(*warn_args, **warn_kwargs)\n",
      "/home/vod/.local/lib/python3.7/site-packages/sklearn/utils/deprecation.py:125: FutureWarning: You are accessing a training score ('split22_train_score'), which will not be available by default any more in 0.21. If you need training scores, please set return_train_score=True\n",
      "  warnings.warn(*warn_args, **warn_kwargs)\n",
      "/home/vod/.local/lib/python3.7/site-packages/sklearn/utils/deprecation.py:125: FutureWarning: You are accessing a training score ('split23_train_score'), which will not be available by default any more in 0.21. If you need training scores, please set return_train_score=True\n",
      "  warnings.warn(*warn_args, **warn_kwargs)\n",
      "/home/vod/.local/lib/python3.7/site-packages/sklearn/utils/deprecation.py:125: FutureWarning: You are accessing a training score ('split24_train_score'), which will not be available by default any more in 0.21. If you need training scores, please set return_train_score=True\n",
      "  warnings.warn(*warn_args, **warn_kwargs)\n",
      "/home/vod/.local/lib/python3.7/site-packages/sklearn/utils/deprecation.py:125: FutureWarning: You are accessing a training score ('mean_train_score'), which will not be available by default any more in 0.21. If you need training scores, please set return_train_score=True\n",
      "  warnings.warn(*warn_args, **warn_kwargs)\n",
      "/home/vod/.local/lib/python3.7/site-packages/sklearn/utils/deprecation.py:125: FutureWarning: You are accessing a training score ('std_train_score'), which will not be available by default any more in 0.21. If you need training scores, please set return_train_score=True\n",
      "  warnings.warn(*warn_args, **warn_kwargs)\n"
     ]
    }
   ],
   "source": [
    "r4grid_8_results = pd.DataFrame(r4grid_8.cv_results_)\n",
    "r4grid_8_results.sort_values(by='rank_test_score', inplace=True)\n",
    "r4grid_8_results.to_csv('model8_r4.csv', ',')"
   ]
  },
  {
   "cell_type": "code",
   "execution_count": 141,
   "metadata": {},
   "outputs": [],
   "source": [
    "model8_r4_predictions = np.array(r4grid_8.best_estimator_.predict_proba(X_test))[:,1]"
   ]
  },
  {
   "cell_type": "code",
   "execution_count": 142,
   "metadata": {},
   "outputs": [],
   "source": [
    "submission = pd.DataFrame({'Id':test_data.Id, 'Y': model8_r4_predictions})\n",
    "submission.to_csv('submissionsr4.csv', index=False)"
   ]
  },
  {
   "cell_type": "code",
   "execution_count": 143,
   "metadata": {},
   "outputs": [],
   "source": [
    "# LOOKS like we fixed overfitting now to improve further..."
   ]
  },
  {
   "cell_type": "code",
   "execution_count": 148,
   "metadata": {},
   "outputs": [
    {
     "data": {
      "text/plain": [
       "GridSearchCV(cv=25, error_score='raise-deprecating',\n",
       "       estimator=XGBClassifier(base_score=0.5, booster='gbtree', colsample_bylevel=1,\n",
       "       colsample_bytree=1, gamma=0, learning_rate=0.1, max_delta_step=0,\n",
       "       max_depth={'tree_method': ['gpu_hist'], 'predictor': ['gpu_predictor'], 'updater': ['grow_gpu'], 'n_jobs': -1, 'random_state': 27},\n",
       "       mi...0,\n",
       "       reg_alpha=0, reg_lambda=1, scale_pos_weight=1, seed=None,\n",
       "       silent=True, subsample=1),\n",
       "       fit_params=None, iid='warn', n_jobs=-1,\n",
       "       param_grid={'colsample_bytree': [0.45], 'gamma': [0.3], 'min_child_weight': [2], 'max_depth': [10], 'n_estimators': [400, 500, 600], 'reg_alpha': [0.025], 'subsample': [0.95], 'learning_rate': [0.001, 0.005, 0.01], 'silent': [1]},\n",
       "       pre_dispatch='2*n_jobs', refit=True, return_train_score='warn',\n",
       "       scoring='roc_auc', verbose=False)"
      ]
     },
     "execution_count": 148,
     "metadata": {},
     "output_type": "execute_result"
    }
   ],
   "source": [
    "xbgc_params[\"random_state\"] = 27 # change seed\n",
    "xgb_clf = xgb.XGBClassifier(xbgc_params)\n",
    "\n",
    "m1_r5_params = {\n",
    "    'colsample_bytree': [0.45],\n",
    "    'gamma': [0.3],\n",
    "    'min_child_weight': [2],\n",
    "    'max_depth': [10],  \n",
    "    'n_estimators': [400, 500, 600],\n",
    "    'reg_alpha': [0.025],\n",
    "    'subsample': [0.95],\n",
    "    'learning_rate': [0.001, 0.005, 0.01],\n",
    "    'silent': [1],\n",
    "}\n",
    "\n",
    "r5grid_m1 = GridSearchCV(xgb_clf,\n",
    "                  m1_r5_params,\n",
    "                  cv=25,\n",
    "                  scoring=\"roc_auc\",\n",
    "                  n_jobs=-1,\n",
    "                  verbose=False)\n",
    "r5grid_m1.fit(X, Y)"
   ]
  },
  {
   "cell_type": "code",
   "execution_count": 149,
   "metadata": {},
   "outputs": [
    {
     "data": {
      "text/plain": [
       "GridSearchCV(cv=25, error_score='raise-deprecating',\n",
       "       estimator=XGBClassifier(base_score=0.5, booster='gbtree', colsample_bylevel=1,\n",
       "       colsample_bytree=1, gamma=0, learning_rate=0.1, max_delta_step=0,\n",
       "       max_depth={'tree_method': ['gpu_hist'], 'predictor': ['gpu_predictor'], 'updater': ['grow_gpu'], 'n_jobs': -1, 'random_state': 27},\n",
       "       mi...0,\n",
       "       reg_alpha=0, reg_lambda=1, scale_pos_weight=1, seed=None,\n",
       "       silent=True, subsample=1),\n",
       "       fit_params=None, iid='warn', n_jobs=-1,\n",
       "       param_grid={'colsample_bytree': [0.45], 'gamma': [0.4], 'min_child_weight': [2], 'max_depth': [10], 'n_estimators': [400, 500, 600], 'reg_alpha': [0.025], 'subsample': [0.95], 'learning_rate': [0.001, 0.005, 0.01], 'silent': [1]},\n",
       "       pre_dispatch='2*n_jobs', refit=True, return_train_score='warn',\n",
       "       scoring='roc_auc', verbose=False)"
      ]
     },
     "execution_count": 149,
     "metadata": {},
     "output_type": "execute_result"
    }
   ],
   "source": [
    "m2_r5_params = {\n",
    "    'colsample_bytree': [0.45],\n",
    "    'gamma': [0.4],\n",
    "    'min_child_weight': [2],\n",
    "    'max_depth': [10],  \n",
    "    'n_estimators': [400, 500, 600],\n",
    "    'reg_alpha': [0.025],\n",
    "    'subsample': [0.95],\n",
    "    'learning_rate': [0.001, 0.005, 0.01],\n",
    "    'silent': [1],\n",
    "}\n",
    "\n",
    "r5grid_m2 = GridSearchCV(xgb_clf,\n",
    "                  m2_r5_params,\n",
    "                  cv=25,\n",
    "                  scoring=\"roc_auc\",\n",
    "                  n_jobs=-1,\n",
    "                  verbose=False)\n",
    "r5grid_m2.fit(X, Y)"
   ]
  },
  {
   "cell_type": "code",
   "execution_count": 150,
   "metadata": {},
   "outputs": [
    {
     "data": {
      "text/plain": [
       "GridSearchCV(cv=25, error_score='raise-deprecating',\n",
       "       estimator=XGBClassifier(base_score=0.5, booster='gbtree', colsample_bylevel=1,\n",
       "       colsample_bytree=1, gamma=0, learning_rate=0.1, max_delta_step=0,\n",
       "       max_depth={'tree_method': ['gpu_hist'], 'predictor': ['gpu_predictor'], 'updater': ['grow_gpu'], 'n_jobs': -1, 'random_state': 27},\n",
       "       mi...0,\n",
       "       reg_alpha=0, reg_lambda=1, scale_pos_weight=1, seed=None,\n",
       "       silent=True, subsample=1),\n",
       "       fit_params=None, iid='warn', n_jobs=-1,\n",
       "       param_grid={'colsample_bytree': [0.45], 'gamma': [0.6], 'min_child_weight': [2], 'max_depth': [10], 'n_estimators': [400, 500, 600], 'reg_alpha': [0.025], 'subsample': [0.95], 'learning_rate': [0.0005, 0.001, 0.005], 'silent': [1]},\n",
       "       pre_dispatch='2*n_jobs', refit=True, return_train_score='warn',\n",
       "       scoring='roc_auc', verbose=False)"
      ]
     },
     "execution_count": 150,
     "metadata": {},
     "output_type": "execute_result"
    }
   ],
   "source": [
    "m3_r5_params = {\n",
    "    'colsample_bytree': [0.45],\n",
    "    'gamma': [0.6],\n",
    "    'min_child_weight': [2],\n",
    "    'max_depth': [10],  \n",
    "    'n_estimators': [400, 500, 600],\n",
    "    'reg_alpha': [0.025],\n",
    "    'subsample': [0.95],\n",
    "    'learning_rate': [0.0005, 0.001, 0.005],\n",
    "    'silent': [1],\n",
    "}\n",
    "\n",
    "r5grid_m3 = GridSearchCV(xgb_clf,\n",
    "                  m3_r5_params,\n",
    "                  cv=25,\n",
    "                  scoring=\"roc_auc\",\n",
    "                  n_jobs=-1,\n",
    "                  verbose=False)\n",
    "r5grid_m3.fit(X, Y)"
   ]
  },
  {
   "cell_type": "code",
   "execution_count": 151,
   "metadata": {},
   "outputs": [
    {
     "data": {
      "text/plain": [
       "GridSearchCV(cv=25, error_score='raise-deprecating',\n",
       "       estimator=XGBClassifier(base_score=0.5, booster='gbtree', colsample_bylevel=1,\n",
       "       colsample_bytree=1, gamma=0, learning_rate=0.1, max_delta_step=0,\n",
       "       max_depth={'tree_method': ['gpu_hist'], 'predictor': ['gpu_predictor'], 'updater': ['grow_gpu'], 'n_jobs': -1, 'random_state': 27},\n",
       "       mi...0,\n",
       "       reg_alpha=0, reg_lambda=1, scale_pos_weight=1, seed=None,\n",
       "       silent=True, subsample=1),\n",
       "       fit_params=None, iid='warn', n_jobs=-1,\n",
       "       param_grid={'colsample_bytree': [0.45], 'gamma': [0.4], 'min_child_weight': [2], 'max_depth': [10], 'n_estimators': [650, 750, 850], 'reg_alpha': [0.025], 'subsample': [0.95], 'learning_rate': [0.0005, 0.001, 0.005], 'silent': [1]},\n",
       "       pre_dispatch='2*n_jobs', refit=True, return_train_score='warn',\n",
       "       scoring='roc_auc', verbose=False)"
      ]
     },
     "execution_count": 151,
     "metadata": {},
     "output_type": "execute_result"
    }
   ],
   "source": [
    "m4_r5_params = {\n",
    "    'colsample_bytree': [0.45],\n",
    "    'gamma': [0.4],\n",
    "    'min_child_weight': [2],\n",
    "    'max_depth': [10],  \n",
    "    'n_estimators': [650, 750, 850],\n",
    "    'reg_alpha': [0.025],\n",
    "    'subsample': [0.95],\n",
    "    'learning_rate': [0.0005, 0.001, 0.005],\n",
    "    'silent': [1],\n",
    "}\n",
    "\n",
    "r5grid_m4 = GridSearchCV(xgb_clf,\n",
    "                  m4_r5_params,\n",
    "                  cv=25,\n",
    "                  scoring=\"roc_auc\",\n",
    "                  n_jobs=-1,\n",
    "                  verbose=False)\n",
    "r5grid_m4.fit(X, Y)"
   ]
  },
  {
   "cell_type": "code",
   "execution_count": 152,
   "metadata": {},
   "outputs": [
    {
     "data": {
      "text/plain": [
       "GridSearchCV(cv=25, error_score='raise-deprecating',\n",
       "       estimator=XGBClassifier(base_score=0.5, booster='gbtree', colsample_bylevel=1,\n",
       "       colsample_bytree=1, gamma=0, learning_rate=0.1, max_delta_step=0,\n",
       "       max_depth={'tree_method': ['gpu_hist'], 'predictor': ['gpu_predictor'], 'updater': ['grow_gpu'], 'n_jobs': -1, 'random_state': 27},\n",
       "       mi...0,\n",
       "       reg_alpha=0, reg_lambda=1, scale_pos_weight=1, seed=None,\n",
       "       silent=True, subsample=1),\n",
       "       fit_params=None, iid='warn', n_jobs=-1,\n",
       "       param_grid={'colsample_bytree': [0.45], 'gamma': [0.6], 'min_child_weight': [2], 'max_depth': [10], 'n_estimators': [650, 750, 850], 'reg_alpha': [0.025], 'subsample': [0.95], 'learning_rate': [0.0005, 0.001, 0.005], 'silent': [1]},\n",
       "       pre_dispatch='2*n_jobs', refit=True, return_train_score='warn',\n",
       "       scoring='roc_auc', verbose=False)"
      ]
     },
     "execution_count": 152,
     "metadata": {},
     "output_type": "execute_result"
    }
   ],
   "source": [
    "m7_r5_params = {\n",
    "    'colsample_bytree': [0.45],\n",
    "    'gamma': [0.6],\n",
    "    'min_child_weight': [2],\n",
    "    'max_depth': [10],  \n",
    "    'n_estimators': [650, 750, 850],\n",
    "    'reg_alpha': [0.025],\n",
    "    'subsample': [0.95],\n",
    "    'learning_rate': [0.0005, 0.001, 0.005],\n",
    "    'silent': [1],\n",
    "}\n",
    "\n",
    "r5grid_m7 = GridSearchCV(xgb_clf,\n",
    "                  m7_r5_params,\n",
    "                  cv=25,\n",
    "                  scoring=\"roc_auc\",\n",
    "                  n_jobs=-1,\n",
    "                  verbose=False)\n",
    "r5grid_m7.fit(X, Y)"
   ]
  },
  {
   "cell_type": "code",
   "execution_count": 156,
   "metadata": {},
   "outputs": [
    {
     "name": "stderr",
     "output_type": "stream",
     "text": [
      "/home/vod/.local/lib/python3.7/site-packages/sklearn/utils/deprecation.py:125: FutureWarning: You are accessing a training score ('split0_train_score'), which will not be available by default any more in 0.21. If you need training scores, please set return_train_score=True\n",
      "  warnings.warn(*warn_args, **warn_kwargs)\n",
      "/home/vod/.local/lib/python3.7/site-packages/sklearn/utils/deprecation.py:125: FutureWarning: You are accessing a training score ('split1_train_score'), which will not be available by default any more in 0.21. If you need training scores, please set return_train_score=True\n",
      "  warnings.warn(*warn_args, **warn_kwargs)\n",
      "/home/vod/.local/lib/python3.7/site-packages/sklearn/utils/deprecation.py:125: FutureWarning: You are accessing a training score ('split2_train_score'), which will not be available by default any more in 0.21. If you need training scores, please set return_train_score=True\n",
      "  warnings.warn(*warn_args, **warn_kwargs)\n",
      "/home/vod/.local/lib/python3.7/site-packages/sklearn/utils/deprecation.py:125: FutureWarning: You are accessing a training score ('split3_train_score'), which will not be available by default any more in 0.21. If you need training scores, please set return_train_score=True\n",
      "  warnings.warn(*warn_args, **warn_kwargs)\n",
      "/home/vod/.local/lib/python3.7/site-packages/sklearn/utils/deprecation.py:125: FutureWarning: You are accessing a training score ('split4_train_score'), which will not be available by default any more in 0.21. If you need training scores, please set return_train_score=True\n",
      "  warnings.warn(*warn_args, **warn_kwargs)\n",
      "/home/vod/.local/lib/python3.7/site-packages/sklearn/utils/deprecation.py:125: FutureWarning: You are accessing a training score ('split5_train_score'), which will not be available by default any more in 0.21. If you need training scores, please set return_train_score=True\n",
      "  warnings.warn(*warn_args, **warn_kwargs)\n",
      "/home/vod/.local/lib/python3.7/site-packages/sklearn/utils/deprecation.py:125: FutureWarning: You are accessing a training score ('split6_train_score'), which will not be available by default any more in 0.21. If you need training scores, please set return_train_score=True\n",
      "  warnings.warn(*warn_args, **warn_kwargs)\n",
      "/home/vod/.local/lib/python3.7/site-packages/sklearn/utils/deprecation.py:125: FutureWarning: You are accessing a training score ('split7_train_score'), which will not be available by default any more in 0.21. If you need training scores, please set return_train_score=True\n",
      "  warnings.warn(*warn_args, **warn_kwargs)\n",
      "/home/vod/.local/lib/python3.7/site-packages/sklearn/utils/deprecation.py:125: FutureWarning: You are accessing a training score ('split8_train_score'), which will not be available by default any more in 0.21. If you need training scores, please set return_train_score=True\n",
      "  warnings.warn(*warn_args, **warn_kwargs)\n",
      "/home/vod/.local/lib/python3.7/site-packages/sklearn/utils/deprecation.py:125: FutureWarning: You are accessing a training score ('split9_train_score'), which will not be available by default any more in 0.21. If you need training scores, please set return_train_score=True\n",
      "  warnings.warn(*warn_args, **warn_kwargs)\n",
      "/home/vod/.local/lib/python3.7/site-packages/sklearn/utils/deprecation.py:125: FutureWarning: You are accessing a training score ('split10_train_score'), which will not be available by default any more in 0.21. If you need training scores, please set return_train_score=True\n",
      "  warnings.warn(*warn_args, **warn_kwargs)\n",
      "/home/vod/.local/lib/python3.7/site-packages/sklearn/utils/deprecation.py:125: FutureWarning: You are accessing a training score ('split11_train_score'), which will not be available by default any more in 0.21. If you need training scores, please set return_train_score=True\n",
      "  warnings.warn(*warn_args, **warn_kwargs)\n",
      "/home/vod/.local/lib/python3.7/site-packages/sklearn/utils/deprecation.py:125: FutureWarning: You are accessing a training score ('split12_train_score'), which will not be available by default any more in 0.21. If you need training scores, please set return_train_score=True\n",
      "  warnings.warn(*warn_args, **warn_kwargs)\n",
      "/home/vod/.local/lib/python3.7/site-packages/sklearn/utils/deprecation.py:125: FutureWarning: You are accessing a training score ('split13_train_score'), which will not be available by default any more in 0.21. If you need training scores, please set return_train_score=True\n",
      "  warnings.warn(*warn_args, **warn_kwargs)\n",
      "/home/vod/.local/lib/python3.7/site-packages/sklearn/utils/deprecation.py:125: FutureWarning: You are accessing a training score ('split14_train_score'), which will not be available by default any more in 0.21. If you need training scores, please set return_train_score=True\n",
      "  warnings.warn(*warn_args, **warn_kwargs)\n",
      "/home/vod/.local/lib/python3.7/site-packages/sklearn/utils/deprecation.py:125: FutureWarning: You are accessing a training score ('split15_train_score'), which will not be available by default any more in 0.21. If you need training scores, please set return_train_score=True\n",
      "  warnings.warn(*warn_args, **warn_kwargs)\n",
      "/home/vod/.local/lib/python3.7/site-packages/sklearn/utils/deprecation.py:125: FutureWarning: You are accessing a training score ('split16_train_score'), which will not be available by default any more in 0.21. If you need training scores, please set return_train_score=True\n",
      "  warnings.warn(*warn_args, **warn_kwargs)\n",
      "/home/vod/.local/lib/python3.7/site-packages/sklearn/utils/deprecation.py:125: FutureWarning: You are accessing a training score ('split17_train_score'), which will not be available by default any more in 0.21. If you need training scores, please set return_train_score=True\n",
      "  warnings.warn(*warn_args, **warn_kwargs)\n",
      "/home/vod/.local/lib/python3.7/site-packages/sklearn/utils/deprecation.py:125: FutureWarning: You are accessing a training score ('split18_train_score'), which will not be available by default any more in 0.21. If you need training scores, please set return_train_score=True\n",
      "  warnings.warn(*warn_args, **warn_kwargs)\n",
      "/home/vod/.local/lib/python3.7/site-packages/sklearn/utils/deprecation.py:125: FutureWarning: You are accessing a training score ('split19_train_score'), which will not be available by default any more in 0.21. If you need training scores, please set return_train_score=True\n",
      "  warnings.warn(*warn_args, **warn_kwargs)\n",
      "/home/vod/.local/lib/python3.7/site-packages/sklearn/utils/deprecation.py:125: FutureWarning: You are accessing a training score ('split20_train_score'), which will not be available by default any more in 0.21. If you need training scores, please set return_train_score=True\n",
      "  warnings.warn(*warn_args, **warn_kwargs)\n",
      "/home/vod/.local/lib/python3.7/site-packages/sklearn/utils/deprecation.py:125: FutureWarning: You are accessing a training score ('split21_train_score'), which will not be available by default any more in 0.21. If you need training scores, please set return_train_score=True\n",
      "  warnings.warn(*warn_args, **warn_kwargs)\n",
      "/home/vod/.local/lib/python3.7/site-packages/sklearn/utils/deprecation.py:125: FutureWarning: You are accessing a training score ('split22_train_score'), which will not be available by default any more in 0.21. If you need training scores, please set return_train_score=True\n",
      "  warnings.warn(*warn_args, **warn_kwargs)\n",
      "/home/vod/.local/lib/python3.7/site-packages/sklearn/utils/deprecation.py:125: FutureWarning: You are accessing a training score ('split23_train_score'), which will not be available by default any more in 0.21. If you need training scores, please set return_train_score=True\n",
      "  warnings.warn(*warn_args, **warn_kwargs)\n",
      "/home/vod/.local/lib/python3.7/site-packages/sklearn/utils/deprecation.py:125: FutureWarning: You are accessing a training score ('split24_train_score'), which will not be available by default any more in 0.21. If you need training scores, please set return_train_score=True\n",
      "  warnings.warn(*warn_args, **warn_kwargs)\n",
      "/home/vod/.local/lib/python3.7/site-packages/sklearn/utils/deprecation.py:125: FutureWarning: You are accessing a training score ('mean_train_score'), which will not be available by default any more in 0.21. If you need training scores, please set return_train_score=True\n",
      "  warnings.warn(*warn_args, **warn_kwargs)\n",
      "/home/vod/.local/lib/python3.7/site-packages/sklearn/utils/deprecation.py:125: FutureWarning: You are accessing a training score ('std_train_score'), which will not be available by default any more in 0.21. If you need training scores, please set return_train_score=True\n",
      "  warnings.warn(*warn_args, **warn_kwargs)\n"
     ]
    }
   ],
   "source": [
    "resultsToCsv(r5grid_m1, \"r5_m1.csv\")\n",
    "resultsToCsv(r5grid_m2, \"r5_m2.csv\")\n",
    "resultsToCsv(r5grid_m3, \"r5_m3.csv\")\n",
    "resultsToCsv(r5grid_m4, \"r5_m4.csv\")\n",
    "resultsToCsv(r5grid_m7, \"r5_m7.csv\")"
   ]
  },
  {
   "cell_type": "code",
   "execution_count": 158,
   "metadata": {},
   "outputs": [],
   "source": [
    "# Note to self: maybe lets improve by using larger n_estimators and dropping learning rate later?"
   ]
  },
  {
   "cell_type": "code",
   "execution_count": 160,
   "metadata": {},
   "outputs": [
    {
     "data": {
      "text/plain": [
       "GridSearchCV(cv=30, error_score='raise-deprecating',\n",
       "       estimator=XGBClassifier(base_score=0.5, booster='gbtree', colsample_bylevel=1,\n",
       "       colsample_bytree=1, gamma=0, learning_rate=0.1, max_delta_step=0,\n",
       "       max_depth={'tree_method': ['gpu_hist'], 'predictor': ['gpu_predictor'], 'updater': ['grow_gpu'], 'n_jobs': -1, 'random_state': 27},\n",
       "       mi...0,\n",
       "       reg_alpha=0, reg_lambda=1, scale_pos_weight=1, seed=None,\n",
       "       silent=True, subsample=1),\n",
       "       fit_params=None, iid='warn', n_jobs=-1,\n",
       "       param_grid={'colsample_bytree': [0.45], 'gamma': [0.5, 0.6, 0.7], 'min_child_weight': [2], 'max_depth': [10], 'n_estimators': [850], 'reg_alpha': [0.02, 0.025, 0.03], 'subsample': [0.95], 'learning_rate': [0.005], 'silent': [1]},\n",
       "       pre_dispatch='2*n_jobs', refit=True, return_train_score='warn',\n",
       "       scoring='roc_auc', verbose=False)"
      ]
     },
     "execution_count": 160,
     "metadata": {},
     "output_type": "execute_result"
    }
   ],
   "source": [
    "m7_r6_params = {\n",
    "    'colsample_bytree': [0.45],\n",
    "    'gamma': [0.5, 0.6, 0.7],\n",
    "    'min_child_weight': [2],\n",
    "    'max_depth': [10],  \n",
    "    'n_estimators': [850],\n",
    "    'reg_alpha': [0.02, 0.025, 0.03],\n",
    "    'subsample': [0.95],\n",
    "    'learning_rate': [0.005],\n",
    "    'silent': [1],\n",
    "}\n",
    "\n",
    "r6grid_m7 = GridSearchCV(xgb_clf,\n",
    "                  m7_r6_params,\n",
    "                  cv=30,\n",
    "                  scoring=\"roc_auc\",\n",
    "                  n_jobs=-1,\n",
    "                  verbose=False)\n",
    "r6grid_m7.fit(X, Y)"
   ]
  },
  {
   "cell_type": "code",
   "execution_count": 161,
   "metadata": {},
   "outputs": [
    {
     "data": {
      "text/plain": [
       "GridSearchCV(cv=30, error_score='raise-deprecating',\n",
       "       estimator=XGBClassifier(base_score=0.5, booster='gbtree', colsample_bylevel=1,\n",
       "       colsample_bytree=1, gamma=0, learning_rate=0.1, max_delta_step=0,\n",
       "       max_depth={'tree_method': ['gpu_hist'], 'predictor': ['gpu_predictor'], 'updater': ['grow_gpu'], 'n_jobs': -1, 'random_state': 27},\n",
       "       mi...0,\n",
       "       reg_alpha=0, reg_lambda=1, scale_pos_weight=1, seed=None,\n",
       "       silent=True, subsample=1),\n",
       "       fit_params=None, iid='warn', n_jobs=-1,\n",
       "       param_grid={'colsample_bytree': [0.45], 'gamma': [0.3, 0.4, 0.5], 'min_child_weight': [2], 'max_depth': [10], 'n_estimators': [850], 'reg_alpha': [0.02, 0.025, 0.03], 'subsample': [0.95], 'learning_rate': [0.005], 'silent': [1]},\n",
       "       pre_dispatch='2*n_jobs', refit=True, return_train_score='warn',\n",
       "       scoring='roc_auc', verbose=False)"
      ]
     },
     "execution_count": 161,
     "metadata": {},
     "output_type": "execute_result"
    }
   ],
   "source": [
    "m4_r6_params = {\n",
    "    'colsample_bytree': [0.45],\n",
    "    'gamma': [0.3, 0.4, 0.5],\n",
    "    'min_child_weight': [2],\n",
    "    'max_depth': [10],  \n",
    "    'n_estimators': [850],\n",
    "    'reg_alpha': [0.02, 0.025, 0.03],\n",
    "    'subsample': [0.95],\n",
    "    'learning_rate': [0.005],\n",
    "    'silent': [1],\n",
    "}\n",
    "\n",
    "r6grid_m4 = GridSearchCV(xgb_clf,\n",
    "                  m4_r6_params,\n",
    "                  cv=30,\n",
    "                  scoring=\"roc_auc\",\n",
    "                  n_jobs=-1,\n",
    "                  verbose=False)\n",
    "r6grid_m4.fit(X, Y)"
   ]
  },
  {
   "cell_type": "code",
   "execution_count": 162,
   "metadata": {},
   "outputs": [
    {
     "name": "stderr",
     "output_type": "stream",
     "text": [
      "/home/vod/.local/lib/python3.7/site-packages/sklearn/utils/deprecation.py:125: FutureWarning: You are accessing a training score ('split0_train_score'), which will not be available by default any more in 0.21. If you need training scores, please set return_train_score=True\n",
      "  warnings.warn(*warn_args, **warn_kwargs)\n",
      "/home/vod/.local/lib/python3.7/site-packages/sklearn/utils/deprecation.py:125: FutureWarning: You are accessing a training score ('split1_train_score'), which will not be available by default any more in 0.21. If you need training scores, please set return_train_score=True\n",
      "  warnings.warn(*warn_args, **warn_kwargs)\n",
      "/home/vod/.local/lib/python3.7/site-packages/sklearn/utils/deprecation.py:125: FutureWarning: You are accessing a training score ('split2_train_score'), which will not be available by default any more in 0.21. If you need training scores, please set return_train_score=True\n",
      "  warnings.warn(*warn_args, **warn_kwargs)\n",
      "/home/vod/.local/lib/python3.7/site-packages/sklearn/utils/deprecation.py:125: FutureWarning: You are accessing a training score ('split3_train_score'), which will not be available by default any more in 0.21. If you need training scores, please set return_train_score=True\n",
      "  warnings.warn(*warn_args, **warn_kwargs)\n",
      "/home/vod/.local/lib/python3.7/site-packages/sklearn/utils/deprecation.py:125: FutureWarning: You are accessing a training score ('split4_train_score'), which will not be available by default any more in 0.21. If you need training scores, please set return_train_score=True\n",
      "  warnings.warn(*warn_args, **warn_kwargs)\n",
      "/home/vod/.local/lib/python3.7/site-packages/sklearn/utils/deprecation.py:125: FutureWarning: You are accessing a training score ('split5_train_score'), which will not be available by default any more in 0.21. If you need training scores, please set return_train_score=True\n",
      "  warnings.warn(*warn_args, **warn_kwargs)\n",
      "/home/vod/.local/lib/python3.7/site-packages/sklearn/utils/deprecation.py:125: FutureWarning: You are accessing a training score ('split6_train_score'), which will not be available by default any more in 0.21. If you need training scores, please set return_train_score=True\n",
      "  warnings.warn(*warn_args, **warn_kwargs)\n",
      "/home/vod/.local/lib/python3.7/site-packages/sklearn/utils/deprecation.py:125: FutureWarning: You are accessing a training score ('split7_train_score'), which will not be available by default any more in 0.21. If you need training scores, please set return_train_score=True\n",
      "  warnings.warn(*warn_args, **warn_kwargs)\n",
      "/home/vod/.local/lib/python3.7/site-packages/sklearn/utils/deprecation.py:125: FutureWarning: You are accessing a training score ('split8_train_score'), which will not be available by default any more in 0.21. If you need training scores, please set return_train_score=True\n",
      "  warnings.warn(*warn_args, **warn_kwargs)\n",
      "/home/vod/.local/lib/python3.7/site-packages/sklearn/utils/deprecation.py:125: FutureWarning: You are accessing a training score ('split9_train_score'), which will not be available by default any more in 0.21. If you need training scores, please set return_train_score=True\n",
      "  warnings.warn(*warn_args, **warn_kwargs)\n",
      "/home/vod/.local/lib/python3.7/site-packages/sklearn/utils/deprecation.py:125: FutureWarning: You are accessing a training score ('split10_train_score'), which will not be available by default any more in 0.21. If you need training scores, please set return_train_score=True\n",
      "  warnings.warn(*warn_args, **warn_kwargs)\n",
      "/home/vod/.local/lib/python3.7/site-packages/sklearn/utils/deprecation.py:125: FutureWarning: You are accessing a training score ('split11_train_score'), which will not be available by default any more in 0.21. If you need training scores, please set return_train_score=True\n",
      "  warnings.warn(*warn_args, **warn_kwargs)\n",
      "/home/vod/.local/lib/python3.7/site-packages/sklearn/utils/deprecation.py:125: FutureWarning: You are accessing a training score ('split12_train_score'), which will not be available by default any more in 0.21. If you need training scores, please set return_train_score=True\n",
      "  warnings.warn(*warn_args, **warn_kwargs)\n",
      "/home/vod/.local/lib/python3.7/site-packages/sklearn/utils/deprecation.py:125: FutureWarning: You are accessing a training score ('split13_train_score'), which will not be available by default any more in 0.21. If you need training scores, please set return_train_score=True\n",
      "  warnings.warn(*warn_args, **warn_kwargs)\n",
      "/home/vod/.local/lib/python3.7/site-packages/sklearn/utils/deprecation.py:125: FutureWarning: You are accessing a training score ('split14_train_score'), which will not be available by default any more in 0.21. If you need training scores, please set return_train_score=True\n",
      "  warnings.warn(*warn_args, **warn_kwargs)\n",
      "/home/vod/.local/lib/python3.7/site-packages/sklearn/utils/deprecation.py:125: FutureWarning: You are accessing a training score ('split15_train_score'), which will not be available by default any more in 0.21. If you need training scores, please set return_train_score=True\n",
      "  warnings.warn(*warn_args, **warn_kwargs)\n",
      "/home/vod/.local/lib/python3.7/site-packages/sklearn/utils/deprecation.py:125: FutureWarning: You are accessing a training score ('split16_train_score'), which will not be available by default any more in 0.21. If you need training scores, please set return_train_score=True\n",
      "  warnings.warn(*warn_args, **warn_kwargs)\n",
      "/home/vod/.local/lib/python3.7/site-packages/sklearn/utils/deprecation.py:125: FutureWarning: You are accessing a training score ('split17_train_score'), which will not be available by default any more in 0.21. If you need training scores, please set return_train_score=True\n",
      "  warnings.warn(*warn_args, **warn_kwargs)\n",
      "/home/vod/.local/lib/python3.7/site-packages/sklearn/utils/deprecation.py:125: FutureWarning: You are accessing a training score ('split18_train_score'), which will not be available by default any more in 0.21. If you need training scores, please set return_train_score=True\n",
      "  warnings.warn(*warn_args, **warn_kwargs)\n",
      "/home/vod/.local/lib/python3.7/site-packages/sklearn/utils/deprecation.py:125: FutureWarning: You are accessing a training score ('split19_train_score'), which will not be available by default any more in 0.21. If you need training scores, please set return_train_score=True\n",
      "  warnings.warn(*warn_args, **warn_kwargs)\n",
      "/home/vod/.local/lib/python3.7/site-packages/sklearn/utils/deprecation.py:125: FutureWarning: You are accessing a training score ('split20_train_score'), which will not be available by default any more in 0.21. If you need training scores, please set return_train_score=True\n",
      "  warnings.warn(*warn_args, **warn_kwargs)\n",
      "/home/vod/.local/lib/python3.7/site-packages/sklearn/utils/deprecation.py:125: FutureWarning: You are accessing a training score ('split21_train_score'), which will not be available by default any more in 0.21. If you need training scores, please set return_train_score=True\n",
      "  warnings.warn(*warn_args, **warn_kwargs)\n",
      "/home/vod/.local/lib/python3.7/site-packages/sklearn/utils/deprecation.py:125: FutureWarning: You are accessing a training score ('split22_train_score'), which will not be available by default any more in 0.21. If you need training scores, please set return_train_score=True\n",
      "  warnings.warn(*warn_args, **warn_kwargs)\n",
      "/home/vod/.local/lib/python3.7/site-packages/sklearn/utils/deprecation.py:125: FutureWarning: You are accessing a training score ('split23_train_score'), which will not be available by default any more in 0.21. If you need training scores, please set return_train_score=True\n",
      "  warnings.warn(*warn_args, **warn_kwargs)\n",
      "/home/vod/.local/lib/python3.7/site-packages/sklearn/utils/deprecation.py:125: FutureWarning: You are accessing a training score ('split24_train_score'), which will not be available by default any more in 0.21. If you need training scores, please set return_train_score=True\n",
      "  warnings.warn(*warn_args, **warn_kwargs)\n",
      "/home/vod/.local/lib/python3.7/site-packages/sklearn/utils/deprecation.py:125: FutureWarning: You are accessing a training score ('split25_train_score'), which will not be available by default any more in 0.21. If you need training scores, please set return_train_score=True\n",
      "  warnings.warn(*warn_args, **warn_kwargs)\n",
      "/home/vod/.local/lib/python3.7/site-packages/sklearn/utils/deprecation.py:125: FutureWarning: You are accessing a training score ('split26_train_score'), which will not be available by default any more in 0.21. If you need training scores, please set return_train_score=True\n",
      "  warnings.warn(*warn_args, **warn_kwargs)\n",
      "/home/vod/.local/lib/python3.7/site-packages/sklearn/utils/deprecation.py:125: FutureWarning: You are accessing a training score ('split27_train_score'), which will not be available by default any more in 0.21. If you need training scores, please set return_train_score=True\n",
      "  warnings.warn(*warn_args, **warn_kwargs)\n",
      "/home/vod/.local/lib/python3.7/site-packages/sklearn/utils/deprecation.py:125: FutureWarning: You are accessing a training score ('split28_train_score'), which will not be available by default any more in 0.21. If you need training scores, please set return_train_score=True\n",
      "  warnings.warn(*warn_args, **warn_kwargs)\n",
      "/home/vod/.local/lib/python3.7/site-packages/sklearn/utils/deprecation.py:125: FutureWarning: You are accessing a training score ('split29_train_score'), which will not be available by default any more in 0.21. If you need training scores, please set return_train_score=True\n",
      "  warnings.warn(*warn_args, **warn_kwargs)\n",
      "/home/vod/.local/lib/python3.7/site-packages/sklearn/utils/deprecation.py:125: FutureWarning: You are accessing a training score ('mean_train_score'), which will not be available by default any more in 0.21. If you need training scores, please set return_train_score=True\n",
      "  warnings.warn(*warn_args, **warn_kwargs)\n",
      "/home/vod/.local/lib/python3.7/site-packages/sklearn/utils/deprecation.py:125: FutureWarning: You are accessing a training score ('std_train_score'), which will not be available by default any more in 0.21. If you need training scores, please set return_train_score=True\n",
      "  warnings.warn(*warn_args, **warn_kwargs)\n"
     ]
    }
   ],
   "source": [
    "resultsToCsv(r6grid_m4, \"r6_m4.csv\")\n",
    "resultsToCsv(r6grid_m7, \"r6_m7.csv\")"
   ]
  },
  {
   "cell_type": "code",
   "execution_count": 163,
   "metadata": {},
   "outputs": [
    {
     "data": {
      "text/plain": [
       "GridSearchCV(cv=30, error_score='raise-deprecating',\n",
       "       estimator=XGBClassifier(base_score=0.5, booster='gbtree', colsample_bylevel=1,\n",
       "       colsample_bytree=1, gamma=0, learning_rate=0.1, max_delta_step=0,\n",
       "       max_depth={'tree_method': ['gpu_hist'], 'predictor': ['gpu_predictor'], 'updater': ['grow_gpu'], 'n_jobs': -1, 'random_state': 27},\n",
       "       mi...0,\n",
       "       reg_alpha=0, reg_lambda=1, scale_pos_weight=1, seed=None,\n",
       "       silent=True, subsample=1),\n",
       "       fit_params=None, iid='warn', n_jobs=-1,\n",
       "       param_grid={'colsample_bytree': [0.45], 'gamma': [0.3], 'min_child_weight': [1, 2, 3], 'max_depth': [9, 10], 'n_estimators': [850], 'reg_alpha': [0.03], 'subsample': [0.95], 'learning_rate': [0.005], 'silent': [1]},\n",
       "       pre_dispatch='2*n_jobs', refit=True, return_train_score='warn',\n",
       "       scoring='roc_auc', verbose=False)"
      ]
     },
     "execution_count": 163,
     "metadata": {},
     "output_type": "execute_result"
    }
   ],
   "source": [
    "m4_r7_params = {\n",
    "    'colsample_bytree': [0.45],\n",
    "    'gamma': [0.3],\n",
    "    'min_child_weight': [1,2,3],\n",
    "    'max_depth': [9,10],  \n",
    "    'n_estimators': [850],\n",
    "    'reg_alpha': [0.03],\n",
    "    'subsample': [0.95],\n",
    "    'learning_rate': [0.005],\n",
    "    'silent': [1],\n",
    "}\n",
    "\n",
    "r7grid_m4 = GridSearchCV(xgb_clf,\n",
    "                  m4_r7_params,\n",
    "                  cv=30,\n",
    "                  scoring=\"roc_auc\",\n",
    "                  n_jobs=-1,\n",
    "                  verbose=False)\n",
    "r7grid_m4.fit(X, Y)"
   ]
  },
  {
   "cell_type": "code",
   "execution_count": 164,
   "metadata": {},
   "outputs": [
    {
     "data": {
      "text/plain": [
       "GridSearchCV(cv=30, error_score='raise-deprecating',\n",
       "       estimator=XGBClassifier(base_score=0.5, booster='gbtree', colsample_bylevel=1,\n",
       "       colsample_bytree=1, gamma=0, learning_rate=0.1, max_delta_step=0,\n",
       "       max_depth={'tree_method': ['gpu_hist'], 'predictor': ['gpu_predictor'], 'updater': ['grow_gpu'], 'n_jobs': -1, 'random_state': 27},\n",
       "       mi...0,\n",
       "       reg_alpha=0, reg_lambda=1, scale_pos_weight=1, seed=None,\n",
       "       silent=True, subsample=1),\n",
       "       fit_params=None, iid='warn', n_jobs=-1,\n",
       "       param_grid={'colsample_bytree': [0.45], 'gamma': [0.6], 'min_child_weight': [1, 2, 3], 'max_depth': [9, 10], 'n_estimators': [850], 'reg_alpha': [0.02], 'subsample': [0.95], 'learning_rate': [0.005], 'silent': [1]},\n",
       "       pre_dispatch='2*n_jobs', refit=True, return_train_score='warn',\n",
       "       scoring='roc_auc', verbose=False)"
      ]
     },
     "execution_count": 164,
     "metadata": {},
     "output_type": "execute_result"
    }
   ],
   "source": [
    "m7_r7_params = {\n",
    "    'colsample_bytree': [0.45],\n",
    "    'gamma': [0.6],\n",
    "    'min_child_weight': [1,2,3],\n",
    "    'max_depth': [9,10],  \n",
    "    'n_estimators': [850],\n",
    "    'reg_alpha': [0.02],\n",
    "    'subsample': [0.95],\n",
    "    'learning_rate': [0.005],\n",
    "    'silent': [1],\n",
    "}\n",
    "\n",
    "r7grid_m7 = GridSearchCV(xgb_clf,\n",
    "                  m7_r7_params,\n",
    "                  cv=30,\n",
    "                  scoring=\"roc_auc\",\n",
    "                  n_jobs=-1,\n",
    "                  verbose=False)\n",
    "r7grid_m7.fit(X, Y)"
   ]
  },
  {
   "cell_type": "code",
   "execution_count": 166,
   "metadata": {},
   "outputs": [
    {
     "name": "stderr",
     "output_type": "stream",
     "text": [
      "/home/vod/.local/lib/python3.7/site-packages/sklearn/utils/deprecation.py:125: FutureWarning: You are accessing a training score ('split0_train_score'), which will not be available by default any more in 0.21. If you need training scores, please set return_train_score=True\n",
      "  warnings.warn(*warn_args, **warn_kwargs)\n",
      "/home/vod/.local/lib/python3.7/site-packages/sklearn/utils/deprecation.py:125: FutureWarning: You are accessing a training score ('split1_train_score'), which will not be available by default any more in 0.21. If you need training scores, please set return_train_score=True\n",
      "  warnings.warn(*warn_args, **warn_kwargs)\n",
      "/home/vod/.local/lib/python3.7/site-packages/sklearn/utils/deprecation.py:125: FutureWarning: You are accessing a training score ('split2_train_score'), which will not be available by default any more in 0.21. If you need training scores, please set return_train_score=True\n",
      "  warnings.warn(*warn_args, **warn_kwargs)\n",
      "/home/vod/.local/lib/python3.7/site-packages/sklearn/utils/deprecation.py:125: FutureWarning: You are accessing a training score ('split3_train_score'), which will not be available by default any more in 0.21. If you need training scores, please set return_train_score=True\n",
      "  warnings.warn(*warn_args, **warn_kwargs)\n",
      "/home/vod/.local/lib/python3.7/site-packages/sklearn/utils/deprecation.py:125: FutureWarning: You are accessing a training score ('split4_train_score'), which will not be available by default any more in 0.21. If you need training scores, please set return_train_score=True\n",
      "  warnings.warn(*warn_args, **warn_kwargs)\n",
      "/home/vod/.local/lib/python3.7/site-packages/sklearn/utils/deprecation.py:125: FutureWarning: You are accessing a training score ('split5_train_score'), which will not be available by default any more in 0.21. If you need training scores, please set return_train_score=True\n",
      "  warnings.warn(*warn_args, **warn_kwargs)\n",
      "/home/vod/.local/lib/python3.7/site-packages/sklearn/utils/deprecation.py:125: FutureWarning: You are accessing a training score ('split6_train_score'), which will not be available by default any more in 0.21. If you need training scores, please set return_train_score=True\n",
      "  warnings.warn(*warn_args, **warn_kwargs)\n",
      "/home/vod/.local/lib/python3.7/site-packages/sklearn/utils/deprecation.py:125: FutureWarning: You are accessing a training score ('split7_train_score'), which will not be available by default any more in 0.21. If you need training scores, please set return_train_score=True\n",
      "  warnings.warn(*warn_args, **warn_kwargs)\n",
      "/home/vod/.local/lib/python3.7/site-packages/sklearn/utils/deprecation.py:125: FutureWarning: You are accessing a training score ('split8_train_score'), which will not be available by default any more in 0.21. If you need training scores, please set return_train_score=True\n",
      "  warnings.warn(*warn_args, **warn_kwargs)\n",
      "/home/vod/.local/lib/python3.7/site-packages/sklearn/utils/deprecation.py:125: FutureWarning: You are accessing a training score ('split9_train_score'), which will not be available by default any more in 0.21. If you need training scores, please set return_train_score=True\n",
      "  warnings.warn(*warn_args, **warn_kwargs)\n",
      "/home/vod/.local/lib/python3.7/site-packages/sklearn/utils/deprecation.py:125: FutureWarning: You are accessing a training score ('split10_train_score'), which will not be available by default any more in 0.21. If you need training scores, please set return_train_score=True\n",
      "  warnings.warn(*warn_args, **warn_kwargs)\n",
      "/home/vod/.local/lib/python3.7/site-packages/sklearn/utils/deprecation.py:125: FutureWarning: You are accessing a training score ('split11_train_score'), which will not be available by default any more in 0.21. If you need training scores, please set return_train_score=True\n",
      "  warnings.warn(*warn_args, **warn_kwargs)\n",
      "/home/vod/.local/lib/python3.7/site-packages/sklearn/utils/deprecation.py:125: FutureWarning: You are accessing a training score ('split12_train_score'), which will not be available by default any more in 0.21. If you need training scores, please set return_train_score=True\n",
      "  warnings.warn(*warn_args, **warn_kwargs)\n",
      "/home/vod/.local/lib/python3.7/site-packages/sklearn/utils/deprecation.py:125: FutureWarning: You are accessing a training score ('split13_train_score'), which will not be available by default any more in 0.21. If you need training scores, please set return_train_score=True\n",
      "  warnings.warn(*warn_args, **warn_kwargs)\n",
      "/home/vod/.local/lib/python3.7/site-packages/sklearn/utils/deprecation.py:125: FutureWarning: You are accessing a training score ('split14_train_score'), which will not be available by default any more in 0.21. If you need training scores, please set return_train_score=True\n",
      "  warnings.warn(*warn_args, **warn_kwargs)\n",
      "/home/vod/.local/lib/python3.7/site-packages/sklearn/utils/deprecation.py:125: FutureWarning: You are accessing a training score ('split15_train_score'), which will not be available by default any more in 0.21. If you need training scores, please set return_train_score=True\n",
      "  warnings.warn(*warn_args, **warn_kwargs)\n",
      "/home/vod/.local/lib/python3.7/site-packages/sklearn/utils/deprecation.py:125: FutureWarning: You are accessing a training score ('split16_train_score'), which will not be available by default any more in 0.21. If you need training scores, please set return_train_score=True\n",
      "  warnings.warn(*warn_args, **warn_kwargs)\n",
      "/home/vod/.local/lib/python3.7/site-packages/sklearn/utils/deprecation.py:125: FutureWarning: You are accessing a training score ('split17_train_score'), which will not be available by default any more in 0.21. If you need training scores, please set return_train_score=True\n",
      "  warnings.warn(*warn_args, **warn_kwargs)\n",
      "/home/vod/.local/lib/python3.7/site-packages/sklearn/utils/deprecation.py:125: FutureWarning: You are accessing a training score ('split18_train_score'), which will not be available by default any more in 0.21. If you need training scores, please set return_train_score=True\n",
      "  warnings.warn(*warn_args, **warn_kwargs)\n",
      "/home/vod/.local/lib/python3.7/site-packages/sklearn/utils/deprecation.py:125: FutureWarning: You are accessing a training score ('split19_train_score'), which will not be available by default any more in 0.21. If you need training scores, please set return_train_score=True\n",
      "  warnings.warn(*warn_args, **warn_kwargs)\n",
      "/home/vod/.local/lib/python3.7/site-packages/sklearn/utils/deprecation.py:125: FutureWarning: You are accessing a training score ('split20_train_score'), which will not be available by default any more in 0.21. If you need training scores, please set return_train_score=True\n",
      "  warnings.warn(*warn_args, **warn_kwargs)\n",
      "/home/vod/.local/lib/python3.7/site-packages/sklearn/utils/deprecation.py:125: FutureWarning: You are accessing a training score ('split21_train_score'), which will not be available by default any more in 0.21. If you need training scores, please set return_train_score=True\n",
      "  warnings.warn(*warn_args, **warn_kwargs)\n",
      "/home/vod/.local/lib/python3.7/site-packages/sklearn/utils/deprecation.py:125: FutureWarning: You are accessing a training score ('split22_train_score'), which will not be available by default any more in 0.21. If you need training scores, please set return_train_score=True\n",
      "  warnings.warn(*warn_args, **warn_kwargs)\n",
      "/home/vod/.local/lib/python3.7/site-packages/sklearn/utils/deprecation.py:125: FutureWarning: You are accessing a training score ('split23_train_score'), which will not be available by default any more in 0.21. If you need training scores, please set return_train_score=True\n",
      "  warnings.warn(*warn_args, **warn_kwargs)\n",
      "/home/vod/.local/lib/python3.7/site-packages/sklearn/utils/deprecation.py:125: FutureWarning: You are accessing a training score ('split24_train_score'), which will not be available by default any more in 0.21. If you need training scores, please set return_train_score=True\n",
      "  warnings.warn(*warn_args, **warn_kwargs)\n",
      "/home/vod/.local/lib/python3.7/site-packages/sklearn/utils/deprecation.py:125: FutureWarning: You are accessing a training score ('split25_train_score'), which will not be available by default any more in 0.21. If you need training scores, please set return_train_score=True\n",
      "  warnings.warn(*warn_args, **warn_kwargs)\n",
      "/home/vod/.local/lib/python3.7/site-packages/sklearn/utils/deprecation.py:125: FutureWarning: You are accessing a training score ('split26_train_score'), which will not be available by default any more in 0.21. If you need training scores, please set return_train_score=True\n",
      "  warnings.warn(*warn_args, **warn_kwargs)\n",
      "/home/vod/.local/lib/python3.7/site-packages/sklearn/utils/deprecation.py:125: FutureWarning: You are accessing a training score ('split27_train_score'), which will not be available by default any more in 0.21. If you need training scores, please set return_train_score=True\n",
      "  warnings.warn(*warn_args, **warn_kwargs)\n",
      "/home/vod/.local/lib/python3.7/site-packages/sklearn/utils/deprecation.py:125: FutureWarning: You are accessing a training score ('split28_train_score'), which will not be available by default any more in 0.21. If you need training scores, please set return_train_score=True\n",
      "  warnings.warn(*warn_args, **warn_kwargs)\n",
      "/home/vod/.local/lib/python3.7/site-packages/sklearn/utils/deprecation.py:125: FutureWarning: You are accessing a training score ('split29_train_score'), which will not be available by default any more in 0.21. If you need training scores, please set return_train_score=True\n",
      "  warnings.warn(*warn_args, **warn_kwargs)\n",
      "/home/vod/.local/lib/python3.7/site-packages/sklearn/utils/deprecation.py:125: FutureWarning: You are accessing a training score ('mean_train_score'), which will not be available by default any more in 0.21. If you need training scores, please set return_train_score=True\n",
      "  warnings.warn(*warn_args, **warn_kwargs)\n",
      "/home/vod/.local/lib/python3.7/site-packages/sklearn/utils/deprecation.py:125: FutureWarning: You are accessing a training score ('std_train_score'), which will not be available by default any more in 0.21. If you need training scores, please set return_train_score=True\n",
      "  warnings.warn(*warn_args, **warn_kwargs)\n"
     ]
    }
   ],
   "source": [
    "resultsToCsv(r7grid_m4, \"r7_m4.csv\")\n",
    "resultsToCsv(r7grid_m7, \"r7_m7.csv\")"
   ]
  },
  {
   "cell_type": "code",
   "execution_count": 167,
   "metadata": {},
   "outputs": [],
   "source": [
    "r7_m4_predictions = np.array(r7grid_m4.best_estimator_.predict_proba(X_test))[:,1]\n",
    "r7_m7_predictions = np.array(r7grid_m7.best_estimator_.predict_proba(X_test))[:,1]"
   ]
  },
  {
   "cell_type": "code",
   "execution_count": 169,
   "metadata": {},
   "outputs": [],
   "source": [
    "r7_predictions = (r7_m4_predictions + r7_m7_predictions) / 2\n",
    "submission = pd.DataFrame({'Id':test_data.Id, 'Y': r7_predictions})\n",
    "submission.to_csv('submissionsr7.csv', index=False)"
   ]
  },
  {
   "cell_type": "code",
   "execution_count": 170,
   "metadata": {},
   "outputs": [
    {
     "data": {
      "text/plain": [
       "GridSearchCV(cv=30, error_score='raise-deprecating',\n",
       "       estimator=XGBClassifier(base_score=0.5, booster='gbtree', colsample_bylevel=1,\n",
       "       colsample_bytree=1, gamma=0, learning_rate=0.1, max_delta_step=0,\n",
       "       max_depth={'tree_method': ['gpu_hist'], 'predictor': ['gpu_predictor'], 'updater': ['grow_gpu'], 'n_jobs': -1, 'random_state': 27},\n",
       "       mi...0,\n",
       "       reg_alpha=0, reg_lambda=1, scale_pos_weight=1, seed=None,\n",
       "       silent=True, subsample=1),\n",
       "       fit_params=None, iid='warn', n_jobs=-1,\n",
       "       param_grid={'colsample_bytree': [0.4, 0.45, 0.5], 'gamma': [0.3], 'min_child_weight': [1], 'max_depth': [10], 'n_estimators': [850], 'reg_alpha': [0.03], 'subsample': [0.95], 'learning_rate': [0.005], 'silent': [1]},\n",
       "       pre_dispatch='2*n_jobs', refit=True, return_train_score='warn',\n",
       "       scoring='roc_auc', verbose=False)"
      ]
     },
     "execution_count": 170,
     "metadata": {},
     "output_type": "execute_result"
    }
   ],
   "source": [
    "m4_r8_params = {\n",
    "    'colsample_bytree': [0.4, 0.45, 0.5],\n",
    "    'gamma': [0.3],\n",
    "    'min_child_weight': [1],\n",
    "    'max_depth': [10],  \n",
    "    'n_estimators': [850],\n",
    "    'reg_alpha': [0.03],\n",
    "    'subsample': [0.95],\n",
    "    'learning_rate': [0.005],\n",
    "    'silent': [1],\n",
    "}\n",
    "\n",
    "r8grid_m4 = GridSearchCV(xgb_clf,\n",
    "                  m4_r8_params,\n",
    "                  cv=30,\n",
    "                  scoring=\"roc_auc\",\n",
    "                  n_jobs=-1,\n",
    "                  verbose=False)\n",
    "r8grid_m4.fit(X, Y)"
   ]
  },
  {
   "cell_type": "code",
   "execution_count": 171,
   "metadata": {},
   "outputs": [
    {
     "data": {
      "text/plain": [
       "GridSearchCV(cv=30, error_score='raise-deprecating',\n",
       "       estimator=XGBClassifier(base_score=0.5, booster='gbtree', colsample_bylevel=1,\n",
       "       colsample_bytree=1, gamma=0, learning_rate=0.1, max_delta_step=0,\n",
       "       max_depth={'tree_method': ['gpu_hist'], 'predictor': ['gpu_predictor'], 'updater': ['grow_gpu'], 'n_jobs': -1, 'random_state': 27},\n",
       "       mi...0,\n",
       "       reg_alpha=0, reg_lambda=1, scale_pos_weight=1, seed=None,\n",
       "       silent=True, subsample=1),\n",
       "       fit_params=None, iid='warn', n_jobs=-1,\n",
       "       param_grid={'colsample_bytree': [0.4, 0.45, 0.5], 'gamma': [0.6], 'min_child_weight': [1], 'max_depth': [10], 'n_estimators': [850], 'reg_alpha': [0.03], 'subsample': [0.95], 'learning_rate': [0.005], 'silent': [1]},\n",
       "       pre_dispatch='2*n_jobs', refit=True, return_train_score='warn',\n",
       "       scoring='roc_auc', verbose=False)"
      ]
     },
     "execution_count": 171,
     "metadata": {},
     "output_type": "execute_result"
    }
   ],
   "source": [
    "m7_r8_params = {\n",
    "    'colsample_bytree': [0.4, 0.45, 0.5],\n",
    "    'gamma': [0.6],\n",
    "    'min_child_weight': [1],\n",
    "    'max_depth': [10],  \n",
    "    'n_estimators': [850],\n",
    "    'reg_alpha': [0.03],\n",
    "    'subsample': [0.95],\n",
    "    'learning_rate': [0.005],\n",
    "    'silent': [1],\n",
    "}\n",
    "\n",
    "r8grid_m7 = GridSearchCV(xgb_clf,\n",
    "                  m7_r8_params,\n",
    "                  cv=30,\n",
    "                  scoring=\"roc_auc\",\n",
    "                  n_jobs=-1,\n",
    "                  verbose=False)\n",
    "r8grid_m7.fit(X, Y)"
   ]
  },
  {
   "cell_type": "code",
   "execution_count": 175,
   "metadata": {},
   "outputs": [
    {
     "name": "stderr",
     "output_type": "stream",
     "text": [
      "/home/vod/.local/lib/python3.7/site-packages/sklearn/utils/deprecation.py:125: FutureWarning: You are accessing a training score ('split0_train_score'), which will not be available by default any more in 0.21. If you need training scores, please set return_train_score=True\n",
      "  warnings.warn(*warn_args, **warn_kwargs)\n",
      "/home/vod/.local/lib/python3.7/site-packages/sklearn/utils/deprecation.py:125: FutureWarning: You are accessing a training score ('split1_train_score'), which will not be available by default any more in 0.21. If you need training scores, please set return_train_score=True\n",
      "  warnings.warn(*warn_args, **warn_kwargs)\n",
      "/home/vod/.local/lib/python3.7/site-packages/sklearn/utils/deprecation.py:125: FutureWarning: You are accessing a training score ('split2_train_score'), which will not be available by default any more in 0.21. If you need training scores, please set return_train_score=True\n",
      "  warnings.warn(*warn_args, **warn_kwargs)\n",
      "/home/vod/.local/lib/python3.7/site-packages/sklearn/utils/deprecation.py:125: FutureWarning: You are accessing a training score ('split3_train_score'), which will not be available by default any more in 0.21. If you need training scores, please set return_train_score=True\n",
      "  warnings.warn(*warn_args, **warn_kwargs)\n",
      "/home/vod/.local/lib/python3.7/site-packages/sklearn/utils/deprecation.py:125: FutureWarning: You are accessing a training score ('split4_train_score'), which will not be available by default any more in 0.21. If you need training scores, please set return_train_score=True\n",
      "  warnings.warn(*warn_args, **warn_kwargs)\n",
      "/home/vod/.local/lib/python3.7/site-packages/sklearn/utils/deprecation.py:125: FutureWarning: You are accessing a training score ('split5_train_score'), which will not be available by default any more in 0.21. If you need training scores, please set return_train_score=True\n",
      "  warnings.warn(*warn_args, **warn_kwargs)\n",
      "/home/vod/.local/lib/python3.7/site-packages/sklearn/utils/deprecation.py:125: FutureWarning: You are accessing a training score ('split6_train_score'), which will not be available by default any more in 0.21. If you need training scores, please set return_train_score=True\n",
      "  warnings.warn(*warn_args, **warn_kwargs)\n",
      "/home/vod/.local/lib/python3.7/site-packages/sklearn/utils/deprecation.py:125: FutureWarning: You are accessing a training score ('split7_train_score'), which will not be available by default any more in 0.21. If you need training scores, please set return_train_score=True\n",
      "  warnings.warn(*warn_args, **warn_kwargs)\n",
      "/home/vod/.local/lib/python3.7/site-packages/sklearn/utils/deprecation.py:125: FutureWarning: You are accessing a training score ('split8_train_score'), which will not be available by default any more in 0.21. If you need training scores, please set return_train_score=True\n",
      "  warnings.warn(*warn_args, **warn_kwargs)\n",
      "/home/vod/.local/lib/python3.7/site-packages/sklearn/utils/deprecation.py:125: FutureWarning: You are accessing a training score ('split9_train_score'), which will not be available by default any more in 0.21. If you need training scores, please set return_train_score=True\n",
      "  warnings.warn(*warn_args, **warn_kwargs)\n",
      "/home/vod/.local/lib/python3.7/site-packages/sklearn/utils/deprecation.py:125: FutureWarning: You are accessing a training score ('split10_train_score'), which will not be available by default any more in 0.21. If you need training scores, please set return_train_score=True\n",
      "  warnings.warn(*warn_args, **warn_kwargs)\n",
      "/home/vod/.local/lib/python3.7/site-packages/sklearn/utils/deprecation.py:125: FutureWarning: You are accessing a training score ('split11_train_score'), which will not be available by default any more in 0.21. If you need training scores, please set return_train_score=True\n",
      "  warnings.warn(*warn_args, **warn_kwargs)\n",
      "/home/vod/.local/lib/python3.7/site-packages/sklearn/utils/deprecation.py:125: FutureWarning: You are accessing a training score ('split12_train_score'), which will not be available by default any more in 0.21. If you need training scores, please set return_train_score=True\n",
      "  warnings.warn(*warn_args, **warn_kwargs)\n",
      "/home/vod/.local/lib/python3.7/site-packages/sklearn/utils/deprecation.py:125: FutureWarning: You are accessing a training score ('split13_train_score'), which will not be available by default any more in 0.21. If you need training scores, please set return_train_score=True\n",
      "  warnings.warn(*warn_args, **warn_kwargs)\n",
      "/home/vod/.local/lib/python3.7/site-packages/sklearn/utils/deprecation.py:125: FutureWarning: You are accessing a training score ('split14_train_score'), which will not be available by default any more in 0.21. If you need training scores, please set return_train_score=True\n",
      "  warnings.warn(*warn_args, **warn_kwargs)\n",
      "/home/vod/.local/lib/python3.7/site-packages/sklearn/utils/deprecation.py:125: FutureWarning: You are accessing a training score ('split15_train_score'), which will not be available by default any more in 0.21. If you need training scores, please set return_train_score=True\n",
      "  warnings.warn(*warn_args, **warn_kwargs)\n",
      "/home/vod/.local/lib/python3.7/site-packages/sklearn/utils/deprecation.py:125: FutureWarning: You are accessing a training score ('split16_train_score'), which will not be available by default any more in 0.21. If you need training scores, please set return_train_score=True\n",
      "  warnings.warn(*warn_args, **warn_kwargs)\n",
      "/home/vod/.local/lib/python3.7/site-packages/sklearn/utils/deprecation.py:125: FutureWarning: You are accessing a training score ('split17_train_score'), which will not be available by default any more in 0.21. If you need training scores, please set return_train_score=True\n",
      "  warnings.warn(*warn_args, **warn_kwargs)\n",
      "/home/vod/.local/lib/python3.7/site-packages/sklearn/utils/deprecation.py:125: FutureWarning: You are accessing a training score ('split18_train_score'), which will not be available by default any more in 0.21. If you need training scores, please set return_train_score=True\n",
      "  warnings.warn(*warn_args, **warn_kwargs)\n",
      "/home/vod/.local/lib/python3.7/site-packages/sklearn/utils/deprecation.py:125: FutureWarning: You are accessing a training score ('split19_train_score'), which will not be available by default any more in 0.21. If you need training scores, please set return_train_score=True\n",
      "  warnings.warn(*warn_args, **warn_kwargs)\n",
      "/home/vod/.local/lib/python3.7/site-packages/sklearn/utils/deprecation.py:125: FutureWarning: You are accessing a training score ('split20_train_score'), which will not be available by default any more in 0.21. If you need training scores, please set return_train_score=True\n",
      "  warnings.warn(*warn_args, **warn_kwargs)\n",
      "/home/vod/.local/lib/python3.7/site-packages/sklearn/utils/deprecation.py:125: FutureWarning: You are accessing a training score ('split21_train_score'), which will not be available by default any more in 0.21. If you need training scores, please set return_train_score=True\n",
      "  warnings.warn(*warn_args, **warn_kwargs)\n",
      "/home/vod/.local/lib/python3.7/site-packages/sklearn/utils/deprecation.py:125: FutureWarning: You are accessing a training score ('split22_train_score'), which will not be available by default any more in 0.21. If you need training scores, please set return_train_score=True\n",
      "  warnings.warn(*warn_args, **warn_kwargs)\n",
      "/home/vod/.local/lib/python3.7/site-packages/sklearn/utils/deprecation.py:125: FutureWarning: You are accessing a training score ('split23_train_score'), which will not be available by default any more in 0.21. If you need training scores, please set return_train_score=True\n",
      "  warnings.warn(*warn_args, **warn_kwargs)\n",
      "/home/vod/.local/lib/python3.7/site-packages/sklearn/utils/deprecation.py:125: FutureWarning: You are accessing a training score ('split24_train_score'), which will not be available by default any more in 0.21. If you need training scores, please set return_train_score=True\n",
      "  warnings.warn(*warn_args, **warn_kwargs)\n",
      "/home/vod/.local/lib/python3.7/site-packages/sklearn/utils/deprecation.py:125: FutureWarning: You are accessing a training score ('split25_train_score'), which will not be available by default any more in 0.21. If you need training scores, please set return_train_score=True\n",
      "  warnings.warn(*warn_args, **warn_kwargs)\n",
      "/home/vod/.local/lib/python3.7/site-packages/sklearn/utils/deprecation.py:125: FutureWarning: You are accessing a training score ('split26_train_score'), which will not be available by default any more in 0.21. If you need training scores, please set return_train_score=True\n",
      "  warnings.warn(*warn_args, **warn_kwargs)\n",
      "/home/vod/.local/lib/python3.7/site-packages/sklearn/utils/deprecation.py:125: FutureWarning: You are accessing a training score ('split27_train_score'), which will not be available by default any more in 0.21. If you need training scores, please set return_train_score=True\n",
      "  warnings.warn(*warn_args, **warn_kwargs)\n",
      "/home/vod/.local/lib/python3.7/site-packages/sklearn/utils/deprecation.py:125: FutureWarning: You are accessing a training score ('split28_train_score'), which will not be available by default any more in 0.21. If you need training scores, please set return_train_score=True\n",
      "  warnings.warn(*warn_args, **warn_kwargs)\n",
      "/home/vod/.local/lib/python3.7/site-packages/sklearn/utils/deprecation.py:125: FutureWarning: You are accessing a training score ('split29_train_score'), which will not be available by default any more in 0.21. If you need training scores, please set return_train_score=True\n",
      "  warnings.warn(*warn_args, **warn_kwargs)\n",
      "/home/vod/.local/lib/python3.7/site-packages/sklearn/utils/deprecation.py:125: FutureWarning: You are accessing a training score ('mean_train_score'), which will not be available by default any more in 0.21. If you need training scores, please set return_train_score=True\n",
      "  warnings.warn(*warn_args, **warn_kwargs)\n",
      "/home/vod/.local/lib/python3.7/site-packages/sklearn/utils/deprecation.py:125: FutureWarning: You are accessing a training score ('std_train_score'), which will not be available by default any more in 0.21. If you need training scores, please set return_train_score=True\n",
      "  warnings.warn(*warn_args, **warn_kwargs)\n"
     ]
    }
   ],
   "source": [
    "resultsToCsv(r8grid_m4, \"r8_m4.csv\")\n",
    "resultsToCsv(r8grid_m7, \"r8_m7.csv\")\n",
    "r8_m4_predictions = np.array(r8grid_m4.best_estimator_.predict_proba(X_test))[:,1]\n",
    "r8_m7_predictions = np.array(r8grid_m7.best_estimator_.predict_proba(X_test))[:,1]\n",
    "r8_predictions = (r8_m4_predictions + r8_m7_predictions) / 2\n",
    "submission = pd.DataFrame({'Id':test_data.Id, 'Y': r8_predictions})\n",
    "submission.to_csv('submissionsr8.csv', index=False)"
   ]
  },
  {
   "cell_type": "code",
   "execution_count": 174,
   "metadata": {},
   "outputs": [
    {
     "name": "stdout",
     "output_type": "stream",
     "text": [
      "XGBClassifier(base_score=0.5, booster='gbtree', colsample_bylevel=1,\n",
      "       colsample_bytree=0.4, gamma=0.3, learning_rate=0.005,\n",
      "       max_delta_step=0, max_depth=10, min_child_weight=1, missing=None,\n",
      "       n_estimators=850, n_jobs=1, nthread=None,\n",
      "       objective='binary:logistic', random_state=0, reg_alpha=0.03,\n",
      "       reg_lambda=1, scale_pos_weight=1, seed=None, silent=1,\n",
      "       subsample=0.95)\n",
      "XGBClassifier(base_score=0.5, booster='gbtree', colsample_bylevel=1,\n",
      "       colsample_bytree=0.4, gamma=0.6, learning_rate=0.005,\n",
      "       max_delta_step=0, max_depth=10, min_child_weight=1, missing=None,\n",
      "       n_estimators=850, n_jobs=1, nthread=None,\n",
      "       objective='binary:logistic', random_state=0, reg_alpha=0.03,\n",
      "       reg_lambda=1, scale_pos_weight=1, seed=None, silent=1,\n",
      "       subsample=0.95)\n"
     ]
    }
   ],
   "source": [
    "print(r8grid_m4.best_estimator_)\n",
    "print(r8grid_m7.best_estimator_)"
   ]
  },
  {
   "cell_type": "code",
   "execution_count": 186,
   "metadata": {},
   "outputs": [
    {
     "name": "stdout",
     "output_type": "stream",
     "text": [
      "XGBClassifier(base_score=0.5, booster='gbtree', colsample_bylevel=1,\n",
      "       colsample_bytree=1, gamma=0, learning_rate=0.1, max_delta_step=0,\n",
      "       max_depth=3, min_child_weight=1, missing=None, n_estimators=100,\n",
      "       n_jobs=1, nthread=None, objective='binary:logistic',\n",
      "       predictor='gpu_predictor', random_state=69, reg_alpha=0,\n",
      "       reg_lambda=1, scale_pos_weight=1, seed=None, silent=True,\n",
      "       subsample=1, tree_method='gpu_hist')\n"
     ]
    },
    {
     "data": {
      "text/plain": [
       "GridSearchCV(cv=30, error_score='raise-deprecating',\n",
       "       estimator=XGBClassifier(base_score=0.5, booster='gbtree', colsample_bylevel=1,\n",
       "       colsample_bytree=1, gamma=0, learning_rate=0.1, max_delta_step=0,\n",
       "       max_depth=3, min_child_weight=1, missing=None, n_estimators=100,\n",
       "       n_jobs=1, nthread=None, objective='binary:logistic',\n",
       "       predictor='gpu_predictor', random_state=69, reg_alpha=0,\n",
       "       reg_lambda=1, scale_pos_weight=1, seed=None, silent=True,\n",
       "       subsample=1, tree_method='gpu_hist'),\n",
       "       fit_params=None, iid='warn', n_jobs=-1,\n",
       "       param_grid={'colsample_bytree': [0.4], 'gamma': [0.6, 0.7, 0.8, 0.9, 1.0], 'min_child_weight': [1], 'max_depth': [10], 'n_estimators': [850], 'reg_alpha': [0.03, 0.04, 0.05, 0.06, 0.07, 0.08, 0.09, 0.1], 'learning_rate': [0.005], 'silent': [1]},\n",
       "       pre_dispatch='2*n_jobs', refit=True, return_train_score='warn',\n",
       "       scoring='roc_auc', verbose=False)"
      ]
     },
     "execution_count": 186,
     "metadata": {},
     "output_type": "execute_result"
    }
   ],
   "source": [
    "# Lets fine tune gamma and reg_alpha\n",
    "xbgc_params = {\n",
    "    'tree_method': 'gpu_hist',\n",
    "    'predictor': 'gpu_predictor',\n",
    "    'random_state': 69\n",
    "}\n",
    "xgb_clf = xgb.XGBClassifier(\n",
    "    **xbgc_params\n",
    ")\n",
    "print(xgb_clf)\n",
    "r9_m7_params = {\n",
    "    'colsample_bytree': [0.4],\n",
    "    'gamma': [0.6, 0.7, 0.8, 0.9, 1.0],\n",
    "    'min_child_weight': [1],\n",
    "    'max_depth': [10],\n",
    "    'n_estimators': [850],\n",
    "    'reg_alpha': [0.03, 0.04, 0.05, 0.06, 0.07, 0.08, 0.09, 0.1],\n",
    "    'learning_rate': [0.005],\n",
    "    'silent': [1]\n",
    "}\n",
    "\n",
    "r9grid_m7 = GridSearchCV(xgb_clf,\n",
    "                  r9_m7_params,\n",
    "                  cv=30,\n",
    "                  scoring=\"roc_auc\",\n",
    "                  n_jobs=-1,\n",
    "                  verbose=False)\n",
    "r9grid_m7.fit(X, Y)"
   ]
  },
  {
   "cell_type": "code",
   "execution_count": 187,
   "metadata": {},
   "outputs": [
    {
     "name": "stderr",
     "output_type": "stream",
     "text": [
      "/home/vod/.local/lib/python3.7/site-packages/sklearn/utils/deprecation.py:125: FutureWarning: You are accessing a training score ('split0_train_score'), which will not be available by default any more in 0.21. If you need training scores, please set return_train_score=True\n",
      "  warnings.warn(*warn_args, **warn_kwargs)\n",
      "/home/vod/.local/lib/python3.7/site-packages/sklearn/utils/deprecation.py:125: FutureWarning: You are accessing a training score ('split1_train_score'), which will not be available by default any more in 0.21. If you need training scores, please set return_train_score=True\n",
      "  warnings.warn(*warn_args, **warn_kwargs)\n",
      "/home/vod/.local/lib/python3.7/site-packages/sklearn/utils/deprecation.py:125: FutureWarning: You are accessing a training score ('split2_train_score'), which will not be available by default any more in 0.21. If you need training scores, please set return_train_score=True\n",
      "  warnings.warn(*warn_args, **warn_kwargs)\n",
      "/home/vod/.local/lib/python3.7/site-packages/sklearn/utils/deprecation.py:125: FutureWarning: You are accessing a training score ('split3_train_score'), which will not be available by default any more in 0.21. If you need training scores, please set return_train_score=True\n",
      "  warnings.warn(*warn_args, **warn_kwargs)\n",
      "/home/vod/.local/lib/python3.7/site-packages/sklearn/utils/deprecation.py:125: FutureWarning: You are accessing a training score ('split4_train_score'), which will not be available by default any more in 0.21. If you need training scores, please set return_train_score=True\n",
      "  warnings.warn(*warn_args, **warn_kwargs)\n",
      "/home/vod/.local/lib/python3.7/site-packages/sklearn/utils/deprecation.py:125: FutureWarning: You are accessing a training score ('split5_train_score'), which will not be available by default any more in 0.21. If you need training scores, please set return_train_score=True\n",
      "  warnings.warn(*warn_args, **warn_kwargs)\n",
      "/home/vod/.local/lib/python3.7/site-packages/sklearn/utils/deprecation.py:125: FutureWarning: You are accessing a training score ('split6_train_score'), which will not be available by default any more in 0.21. If you need training scores, please set return_train_score=True\n",
      "  warnings.warn(*warn_args, **warn_kwargs)\n",
      "/home/vod/.local/lib/python3.7/site-packages/sklearn/utils/deprecation.py:125: FutureWarning: You are accessing a training score ('split7_train_score'), which will not be available by default any more in 0.21. If you need training scores, please set return_train_score=True\n",
      "  warnings.warn(*warn_args, **warn_kwargs)\n",
      "/home/vod/.local/lib/python3.7/site-packages/sklearn/utils/deprecation.py:125: FutureWarning: You are accessing a training score ('split8_train_score'), which will not be available by default any more in 0.21. If you need training scores, please set return_train_score=True\n",
      "  warnings.warn(*warn_args, **warn_kwargs)\n",
      "/home/vod/.local/lib/python3.7/site-packages/sklearn/utils/deprecation.py:125: FutureWarning: You are accessing a training score ('split9_train_score'), which will not be available by default any more in 0.21. If you need training scores, please set return_train_score=True\n",
      "  warnings.warn(*warn_args, **warn_kwargs)\n",
      "/home/vod/.local/lib/python3.7/site-packages/sklearn/utils/deprecation.py:125: FutureWarning: You are accessing a training score ('split10_train_score'), which will not be available by default any more in 0.21. If you need training scores, please set return_train_score=True\n",
      "  warnings.warn(*warn_args, **warn_kwargs)\n",
      "/home/vod/.local/lib/python3.7/site-packages/sklearn/utils/deprecation.py:125: FutureWarning: You are accessing a training score ('split11_train_score'), which will not be available by default any more in 0.21. If you need training scores, please set return_train_score=True\n",
      "  warnings.warn(*warn_args, **warn_kwargs)\n",
      "/home/vod/.local/lib/python3.7/site-packages/sklearn/utils/deprecation.py:125: FutureWarning: You are accessing a training score ('split12_train_score'), which will not be available by default any more in 0.21. If you need training scores, please set return_train_score=True\n",
      "  warnings.warn(*warn_args, **warn_kwargs)\n",
      "/home/vod/.local/lib/python3.7/site-packages/sklearn/utils/deprecation.py:125: FutureWarning: You are accessing a training score ('split13_train_score'), which will not be available by default any more in 0.21. If you need training scores, please set return_train_score=True\n",
      "  warnings.warn(*warn_args, **warn_kwargs)\n",
      "/home/vod/.local/lib/python3.7/site-packages/sklearn/utils/deprecation.py:125: FutureWarning: You are accessing a training score ('split14_train_score'), which will not be available by default any more in 0.21. If you need training scores, please set return_train_score=True\n",
      "  warnings.warn(*warn_args, **warn_kwargs)\n",
      "/home/vod/.local/lib/python3.7/site-packages/sklearn/utils/deprecation.py:125: FutureWarning: You are accessing a training score ('split15_train_score'), which will not be available by default any more in 0.21. If you need training scores, please set return_train_score=True\n",
      "  warnings.warn(*warn_args, **warn_kwargs)\n",
      "/home/vod/.local/lib/python3.7/site-packages/sklearn/utils/deprecation.py:125: FutureWarning: You are accessing a training score ('split16_train_score'), which will not be available by default any more in 0.21. If you need training scores, please set return_train_score=True\n",
      "  warnings.warn(*warn_args, **warn_kwargs)\n",
      "/home/vod/.local/lib/python3.7/site-packages/sklearn/utils/deprecation.py:125: FutureWarning: You are accessing a training score ('split17_train_score'), which will not be available by default any more in 0.21. If you need training scores, please set return_train_score=True\n",
      "  warnings.warn(*warn_args, **warn_kwargs)\n",
      "/home/vod/.local/lib/python3.7/site-packages/sklearn/utils/deprecation.py:125: FutureWarning: You are accessing a training score ('split18_train_score'), which will not be available by default any more in 0.21. If you need training scores, please set return_train_score=True\n",
      "  warnings.warn(*warn_args, **warn_kwargs)\n",
      "/home/vod/.local/lib/python3.7/site-packages/sklearn/utils/deprecation.py:125: FutureWarning: You are accessing a training score ('split19_train_score'), which will not be available by default any more in 0.21. If you need training scores, please set return_train_score=True\n",
      "  warnings.warn(*warn_args, **warn_kwargs)\n",
      "/home/vod/.local/lib/python3.7/site-packages/sklearn/utils/deprecation.py:125: FutureWarning: You are accessing a training score ('split20_train_score'), which will not be available by default any more in 0.21. If you need training scores, please set return_train_score=True\n",
      "  warnings.warn(*warn_args, **warn_kwargs)\n",
      "/home/vod/.local/lib/python3.7/site-packages/sklearn/utils/deprecation.py:125: FutureWarning: You are accessing a training score ('split21_train_score'), which will not be available by default any more in 0.21. If you need training scores, please set return_train_score=True\n",
      "  warnings.warn(*warn_args, **warn_kwargs)\n",
      "/home/vod/.local/lib/python3.7/site-packages/sklearn/utils/deprecation.py:125: FutureWarning: You are accessing a training score ('split22_train_score'), which will not be available by default any more in 0.21. If you need training scores, please set return_train_score=True\n",
      "  warnings.warn(*warn_args, **warn_kwargs)\n",
      "/home/vod/.local/lib/python3.7/site-packages/sklearn/utils/deprecation.py:125: FutureWarning: You are accessing a training score ('split23_train_score'), which will not be available by default any more in 0.21. If you need training scores, please set return_train_score=True\n",
      "  warnings.warn(*warn_args, **warn_kwargs)\n",
      "/home/vod/.local/lib/python3.7/site-packages/sklearn/utils/deprecation.py:125: FutureWarning: You are accessing a training score ('split24_train_score'), which will not be available by default any more in 0.21. If you need training scores, please set return_train_score=True\n",
      "  warnings.warn(*warn_args, **warn_kwargs)\n",
      "/home/vod/.local/lib/python3.7/site-packages/sklearn/utils/deprecation.py:125: FutureWarning: You are accessing a training score ('split25_train_score'), which will not be available by default any more in 0.21. If you need training scores, please set return_train_score=True\n",
      "  warnings.warn(*warn_args, **warn_kwargs)\n",
      "/home/vod/.local/lib/python3.7/site-packages/sklearn/utils/deprecation.py:125: FutureWarning: You are accessing a training score ('split26_train_score'), which will not be available by default any more in 0.21. If you need training scores, please set return_train_score=True\n",
      "  warnings.warn(*warn_args, **warn_kwargs)\n",
      "/home/vod/.local/lib/python3.7/site-packages/sklearn/utils/deprecation.py:125: FutureWarning: You are accessing a training score ('split27_train_score'), which will not be available by default any more in 0.21. If you need training scores, please set return_train_score=True\n",
      "  warnings.warn(*warn_args, **warn_kwargs)\n",
      "/home/vod/.local/lib/python3.7/site-packages/sklearn/utils/deprecation.py:125: FutureWarning: You are accessing a training score ('split28_train_score'), which will not be available by default any more in 0.21. If you need training scores, please set return_train_score=True\n",
      "  warnings.warn(*warn_args, **warn_kwargs)\n",
      "/home/vod/.local/lib/python3.7/site-packages/sklearn/utils/deprecation.py:125: FutureWarning: You are accessing a training score ('split29_train_score'), which will not be available by default any more in 0.21. If you need training scores, please set return_train_score=True\n",
      "  warnings.warn(*warn_args, **warn_kwargs)\n",
      "/home/vod/.local/lib/python3.7/site-packages/sklearn/utils/deprecation.py:125: FutureWarning: You are accessing a training score ('mean_train_score'), which will not be available by default any more in 0.21. If you need training scores, please set return_train_score=True\n",
      "  warnings.warn(*warn_args, **warn_kwargs)\n",
      "/home/vod/.local/lib/python3.7/site-packages/sklearn/utils/deprecation.py:125: FutureWarning: You are accessing a training score ('std_train_score'), which will not be available by default any more in 0.21. If you need training scores, please set return_train_score=True\n",
      "  warnings.warn(*warn_args, **warn_kwargs)\n"
     ]
    }
   ],
   "source": [
    "resultsToCsv(r9grid_m7, \"r9_m7.csv\")"
   ]
  },
  {
   "cell_type": "code",
   "execution_count": 189,
   "metadata": {},
   "outputs": [],
   "source": [
    "r9_m7_predictions = np.array(r9grid_m7.best_estimator_.predict_proba(X_test))[:,1]\n",
    "submission = pd.DataFrame({'Id':test_data.Id, 'Y': r9_m7_predictions})\n",
    "submission.to_csv('submissionsr9.csv', index=False)"
   ]
  },
  {
   "cell_type": "code",
   "execution_count": 17,
   "metadata": {},
   "outputs": [
    {
     "name": "stdout",
     "output_type": "stream",
     "text": [
      "Training one model took: 273.1570289134979  to run\n"
     ]
    }
   ],
   "source": [
    "# B.D.E.\n",
    "train_data = pd.read_csv(\"train_final.csv\")\n",
    "test_data = pd.read_csv(\"test_final.csv\")\n",
    "Y = pd.Series(train_data[\"Y\"])\n",
    "X = train_data.loc[:, \"f1\":\"f24\"]\n",
    "X_test = test_data.loc[:, \"f1\":\"f24\"]\n",
    "\n",
    "import time\n",
    "start_time = time.time()\n",
    "BDE = xgb.XGBClassifier(\n",
    "    n_estimators = 30000,\n",
    "    max_depth = 10,\n",
    "    subsample = .95,\n",
    "    colsample_bytree = 0.4,\n",
    "    gamma = 0.9,\n",
    "    min_child_weight = 1,\n",
    "    reg_alpha = 0.07,\n",
    "    learning_rate = 0.0005,\n",
    "    silent = 1,\n",
    "    update = 'grow_gpu',\n",
    "    tree_method = 'gpu_hist',\n",
    "    predictor = 'gpu_predictor'\n",
    ")\n",
    "\n",
    "BDE.fit(X, Y)\n",
    "print(\"Training one model took: \" + str(time.time() - start_time), \" to run\")"
   ]
  },
  {
   "cell_type": "code",
   "execution_count": 23,
   "metadata": {},
   "outputs": [],
   "source": [
    "predictions = np.array(BDE.predict_proba(X_test))[:,1]\n",
    "submission = pd.DataFrame({'Id':test_data.Id, 'Y': predictions})\n",
    "submission.to_csv('submissionsBDE1.csv', index=False)"
   ]
  },
  {
   "cell_type": "code",
   "execution_count": 29,
   "metadata": {},
   "outputs": [
    {
     "data": {
      "image/png": "[encoded data removed]",
      "text/plain": [
       "<Figure size 432x288 with 1 Axes>"
      ]
     },
     "metadata": {
      "needs_background": "light"
     },
     "output_type": "display_data"
    },
    {
     "ename": "AttributeError",
     "evalue": "'XGBClassifier' object has no attribute 'evals_result_'",
     "output_type": "error",
     "traceback": [
      "\u001b[0;31m---------------------------------------------------------------------------\u001b[0m",
      "\u001b[0;31mAttributeError\u001b[0m                            Traceback (most recent call last)",
      "\u001b[0;32m<ipython-input-29-96d795446211>\u001b[0m in \u001b[0;36m<module>\u001b[0;34m()\u001b[0m\n\u001b[1;32m      2\u001b[0m \u001b[0mxgb\u001b[0m\u001b[0;34m.\u001b[0m\u001b[0mplot_importance\u001b[0m\u001b[0;34m(\u001b[0m\u001b[0mBDE\u001b[0m\u001b[0;34m)\u001b[0m\u001b[0;34m\u001b[0m\u001b[0m\n\u001b[1;32m      3\u001b[0m \u001b[0mpyplot\u001b[0m\u001b[0;34m.\u001b[0m\u001b[0mshow\u001b[0m\u001b[0;34m(\u001b[0m\u001b[0;34m)\u001b[0m\u001b[0;34m\u001b[0m\u001b[0m\n\u001b[0;32m----> 4\u001b[0;31m \u001b[0mBDE\u001b[0m\u001b[0;34m.\u001b[0m\u001b[0mevals_result\u001b[0m\u001b[0;34m(\u001b[0m\u001b[0;34m)\u001b[0m\u001b[0;34m\u001b[0m\u001b[0m\n\u001b[0m",
      "\u001b[0;32m/usr/lib/python3.7/site-packages/xgboost-0.80-py3.7.egg/xgboost/sklearn.py\u001b[0m in \u001b[0;36mevals_result\u001b[0;34m(self)\u001b[0m\n\u001b[1;32m    756\u001b[0m             'validation_1': {'logloss': ['0.41965', '0.17686']}}\n\u001b[1;32m    757\u001b[0m         \"\"\"\n\u001b[0;32m--> 758\u001b[0;31m         \u001b[0;32mif\u001b[0m \u001b[0mself\u001b[0m\u001b[0;34m.\u001b[0m\u001b[0mevals_result_\u001b[0m\u001b[0;34m:\u001b[0m\u001b[0;34m\u001b[0m\u001b[0m\n\u001b[0m\u001b[1;32m    759\u001b[0m             \u001b[0mevals_result\u001b[0m \u001b[0;34m=\u001b[0m \u001b[0mself\u001b[0m\u001b[0;34m.\u001b[0m\u001b[0mevals_result_\u001b[0m\u001b[0;34m\u001b[0m\u001b[0m\n\u001b[1;32m    760\u001b[0m         \u001b[0;32melse\u001b[0m\u001b[0;34m:\u001b[0m\u001b[0;34m\u001b[0m\u001b[0m\n",
      "\u001b[0;31mAttributeError\u001b[0m: 'XGBClassifier' object has no attribute 'evals_result_'"
     ]
    }
   ],
   "source": [
    "from matplotlib import pyplot\n",
    "xgb.plot_importance(BDE)\n",
    "pyplot.show()"
   ]
  },
  {
   "cell_type": "code",
   "execution_count": 94,
   "metadata": {},
   "outputs": [
    {
     "name": "stderr",
     "output_type": "stream",
     "text": [
      "/home/vod/.local/lib/python3.7/site-packages/sklearn/utils/deprecation.py:125: FutureWarning: You are accessing a training score ('split0_train_score'), which will not be available by default any more in 0.21. If you need training scores, please set return_train_score=True\n",
      "  warnings.warn(*warn_args, **warn_kwargs)\n",
      "/home/vod/.local/lib/python3.7/site-packages/sklearn/utils/deprecation.py:125: FutureWarning: You are accessing a training score ('split1_train_score'), which will not be available by default any more in 0.21. If you need training scores, please set return_train_score=True\n",
      "  warnings.warn(*warn_args, **warn_kwargs)\n",
      "/home/vod/.local/lib/python3.7/site-packages/sklearn/utils/deprecation.py:125: FutureWarning: You are accessing a training score ('split2_train_score'), which will not be available by default any more in 0.21. If you need training scores, please set return_train_score=True\n",
      "  warnings.warn(*warn_args, **warn_kwargs)\n",
      "/home/vod/.local/lib/python3.7/site-packages/sklearn/utils/deprecation.py:125: FutureWarning: You are accessing a training score ('mean_train_score'), which will not be available by default any more in 0.21. If you need training scores, please set return_train_score=True\n",
      "  warnings.warn(*warn_args, **warn_kwargs)\n",
      "/home/vod/.local/lib/python3.7/site-packages/sklearn/utils/deprecation.py:125: FutureWarning: You are accessing a training score ('std_train_score'), which will not be available by default any more in 0.21. If you need training scores, please set return_train_score=True\n",
      "  warnings.warn(*warn_args, **warn_kwargs)\n"
     ]
    }
   ],
   "source": [
    "# Lets fine tune gamma and reg_alpha\n",
    "train_data = pd.read_csv(\"train_final.csv\").drop(columns=[\"f2\", \"f5\", \"f6\", \"f9\", \"f10\", \"f11\", \"f12\", \"f18\", \"f20\",\n",
    "                                                          \"f21\", \"f22\", \"f24\",\n",
    "                                                          \"f3\"\n",
    "                                                         ])\n",
    "Y = pd.Series(train_data[\"Y\"])\n",
    "X = train_data.loc[:, \"f1\":\"f23\"]\n",
    "X_test = test_data.loc[:, \"f1\":\"f24\"]\n",
    "\n",
    "xbgc_params = {\n",
    "    'tree_method': 'gpu_hist',\n",
    "    'predictor': 'gpu_predictor',\n",
    "    'random_state': 69\n",
    "}\n",
    "xgb_clf = xgb.XGBClassifier(\n",
    "    **xbgc_params\n",
    ")\n",
    "\n",
    "lde_params = {\n",
    "    'colsample_bytree': [0.4],\n",
    "    'gamma': [0.9],\n",
    "    'min_child_weight': [1],\n",
    "    'max_depth': [10],\n",
    "    'n_estimators': [50000],\n",
    "    'reg_alpha': [0.07],\n",
    "    'learning_rate': [0.0001],\n",
    "    'subsample': [0.95],\n",
    "    'silent': [1]\n",
    "}\n",
    "\n",
    "lde_grid = GridSearchCV(xgb_clf,\n",
    "                  lde_params,\n",
    "                  cv=3,\n",
    "                  scoring=\"roc_auc\",\n",
    "                  n_jobs=-1,\n",
    "                  verbose=False)\n",
    "lde_grid.fit(X, Y)\n",
    "resultsToCsv(lde_grid, \"lde_results.csv\")"
   ]
  },
  {
   "cell_type": "code",
   "execution_count": 96,
   "metadata": {},
   "outputs": [],
   "source": [
    "test_data = pd.read_csv(\"test_final.csv\").drop(columns=[\"f2\", \"f5\", \"f6\", \"f9\", \"f10\", \"f11\", \"f12\", \"f18\", \"f20\",\n",
    "                                                          \"f21\", \"f22\", \"f24\",\n",
    "                                                          \"f3\"\n",
    "                                                         ])\n",
    "X_test = test_data.loc[:, \"f1\":\"f23\"]\n",
    "predictions = np.array(lde_grid.best_estimator_.predict_proba(X_test))[:,1]\n",
    "submission = pd.DataFrame({'Id':test_data.Id, 'Y': predictions})\n",
    "submission.to_csv('submissionsLDE.csv', index=False)"
   ]
  },
  {
   "cell_type": "code",
   "execution_count": 116,
   "metadata": {},
   "outputs": [
    {
     "data": {
      "text/plain": [
       "XGBClassifier(base_score=0.5, booster='gbtree', colsample_bylevel=1,\n",
       "       colsample_bytree=0.4, gamma=0.9, learning_rate=1e-06,\n",
       "       max_delta_step=0, max_depth=10, min_child_weight=1, missing=None,\n",
       "       n_estimators=80000, n_jobs=-1, nthread=None,\n",
       "       objective='binary:logistic', predictor='gpu_predictor',\n",
       "       random_state=69, reg_alpha=0.07, reg_lambda=1, scale_pos_weight=1,\n",
       "       seed=None, silent=1, subsample=0.95, tree_method='gpu_hist')"
      ]
     },
     "execution_count": 116,
     "metadata": {},
     "output_type": "execute_result"
    }
   ],
   "source": [
    "bde_fine = xgb.XGBClassifier(\n",
    "    tree_method = 'gpu_hist',\n",
    "    predictor = 'gpu_predictor',\n",
    "    random_state = 69,\n",
    "    colsample_bytree = 0.4,\n",
    "    gamma = 0.9,\n",
    "    min_child_weight= 1,\n",
    "    max_depth = 10,\n",
    "    n_estimators = 80000,\n",
    "    reg_alpha = 0.07,\n",
    "    learning_rate =  0.000001,\n",
    "    subsample = 0.95,\n",
    "    n_jobs = -1,\n",
    "    silent = 1\n",
    ")\n",
    "\n",
    "bde_fine.fit(X, Y)\n"
   ]
  },
  {
   "cell_type": "code",
   "execution_count": 122,
   "metadata": {},
   "outputs": [],
   "source": [
    "test_data = pd.read_csv(\"test_final.csv\").drop(columns=[\"f2\", \"f5\", \"f6\", \"f9\", \"f10\", \"f11\", \"f12\", \"f18\", \"f20\",\n",
    "                                                          \"f21\", \"f22\", \"f24\",\n",
    "                                                          \"f3\"\n",
    "                                                         ])\n",
    "X_test = test_data.loc[:, \"f1\":\"f23\"]\n",
    "predictions = np.array(bde_fine.predict_proba(X_test))[:,1]\n",
    "submission = pd.DataFrame({'Id':test_data.Id, 'Y': predictions})\n",
    "submission.to_csv('submissionsLast.csv', index=False)"
   ]
  },
  {
   "cell_type": "code",
   "execution_count": 109,
   "metadata": {},
   "outputs": [
    {
     "data": {
      "text/plain": [
       "array([[0.46756518, 0.5324348 ],\n",
       "       [0.4711544 , 0.5288456 ],\n",
       "       [0.4641133 , 0.5358867 ],\n",
       "       ...,\n",
       "       [0.46411204, 0.53588796],\n",
       "       [0.4660473 , 0.5339527 ],\n",
       "       [0.46578205, 0.53421795]], dtype=float32)"
      ]
     },
     "execution_count": 109,
     "metadata": {},
     "output_type": "execute_result"
    }
   ],
   "source": [
    "bde_fine.predict_proba(X_test)"
   ]
  },
  {
   "cell_type": "code",
   "execution_count": null,
   "metadata": {},
   "outputs": [],
   "source": []
  }
 ],
 "metadata": {
  "kernelspec": {
   "display_name": "Python 3",
   "language": "python",
   "name": "python3"
  },
  "language_info": {
   "codemirror_mode": {
    "name": "ipython",
    "version": 3
   },
   "file_extension": ".py",
   "mimetype": "text/x-python",
   "name": "python",
   "nbconvert_exporter": "python",
   "pygments_lexer": "ipython3",
   "version": "3.7.0"
  }
 },
 "nbformat": 4,
 "nbformat_minor": 2
}
